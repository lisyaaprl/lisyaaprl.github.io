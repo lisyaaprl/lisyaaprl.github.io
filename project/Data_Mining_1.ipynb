{
  "cells": [
    {
      "cell_type": "markdown",
      "metadata": {
        "id": "kYvpipmN2CKJ"
      },
      "source": [
        "#Import Library yang Diperlukan"
      ]
    },
    {
      "cell_type": "code",
      "execution_count": null,
      "metadata": {
        "id": "mhyCAm6-tCmu"
      },
      "outputs": [],
      "source": [
        "import pandas as pd\n",
        "import numpy as np\n",
        "import matplotlib.pyplot as plt\n",
        "import seaborn as sns\n",
        "\n",
        "from sklearn.preprocessing import StandardScaler\n",
        "from sklearn.model_selection import train_test_split,cross_val_score\n",
        "\n",
        "from sklearn import metrics\n",
        "from sklearn.linear_model import LinearRegression\n",
        "from sklearn.tree import DecisionTreeRegressor\n",
        "from sklearn.ensemble import RandomForestRegressor, GradientBoostingRegressor\n",
        "from lightgbm import LGBMRegressor\n",
        "\n",
        "from sklearn.metrics import r2_score, mean_absolute_error, mean_squared_error"
      ]
    },
    {
      "cell_type": "code",
      "execution_count": null,
      "metadata": {
        "id": "jrBJSlscIMZO"
      },
      "outputs": [],
      "source": [
        "import warnings\n",
        "warnings.filterwarnings('ignore')"
      ]
    },
    {
      "cell_type": "markdown",
      "metadata": {
        "id": "SjJ7C-yi2R1k"
      },
      "source": [
        "#Load Dataset dari Google Drive"
      ]
    },
    {
      "cell_type": "code",
      "execution_count": null,
      "metadata": {
        "colab": {
          "base_uri": "https://localhost:8080/"
        },
        "id": "uGp1wlVN19pg",
        "outputId": "71e63f19-5238-4965-a50e-6224c83f00d2"
      },
      "outputs": [
        {
          "name": "stdout",
          "output_type": "stream",
          "text": [
            "Mounted at /content/gdrive\n"
          ]
        }
      ],
      "source": [
        "from google.colab import drive\n",
        "drive.mount(\"/content/gdrive\")"
      ]
    },
    {
      "cell_type": "code",
      "execution_count": null,
      "metadata": {
        "colab": {
          "base_uri": "https://localhost:8080/",
          "height": 363
        },
        "id": "y_T18Ulw5a6b",
        "outputId": "3e118e5d-8f49-48c7-e0b7-3f5036d9942d"
      },
      "outputs": [
        {
          "data": {
            "text/html": [
              "\n",
              "  <div id=\"df-41ba45b7-95c1-4ed6-abb7-0fe9b9769117\">\n",
              "    <div class=\"colab-df-container\">\n",
              "      <div>\n",
              "<style scoped>\n",
              "    .dataframe tbody tr th:only-of-type {\n",
              "        vertical-align: middle;\n",
              "    }\n",
              "\n",
              "    .dataframe tbody tr th {\n",
              "        vertical-align: top;\n",
              "    }\n",
              "\n",
              "    .dataframe thead th {\n",
              "        text-align: right;\n",
              "    }\n",
              "</style>\n",
              "<table border=\"1\" class=\"dataframe\">\n",
              "  <thead>\n",
              "    <tr style=\"text-align: right;\">\n",
              "      <th></th>\n",
              "      <th>Posted On</th>\n",
              "      <th>BHK</th>\n",
              "      <th>Rent</th>\n",
              "      <th>Size</th>\n",
              "      <th>Floor</th>\n",
              "      <th>Area Type</th>\n",
              "      <th>Area Locality</th>\n",
              "      <th>City</th>\n",
              "      <th>Furnishing Status</th>\n",
              "      <th>Tenant Preferred</th>\n",
              "      <th>Bathroom</th>\n",
              "      <th>Point of Contact</th>\n",
              "    </tr>\n",
              "  </thead>\n",
              "  <tbody>\n",
              "    <tr>\n",
              "      <th>0</th>\n",
              "      <td>2022-05-18</td>\n",
              "      <td>2</td>\n",
              "      <td>10000</td>\n",
              "      <td>1100</td>\n",
              "      <td>Ground out of 2</td>\n",
              "      <td>Super Area</td>\n",
              "      <td>Bandel</td>\n",
              "      <td>Kolkata</td>\n",
              "      <td>Unfurnished</td>\n",
              "      <td>Bachelors/Family</td>\n",
              "      <td>2</td>\n",
              "      <td>Contact Owner</td>\n",
              "    </tr>\n",
              "    <tr>\n",
              "      <th>1</th>\n",
              "      <td>2022-05-13</td>\n",
              "      <td>2</td>\n",
              "      <td>20000</td>\n",
              "      <td>800</td>\n",
              "      <td>1 out of 3</td>\n",
              "      <td>Super Area</td>\n",
              "      <td>Phool Bagan, Kankurgachi</td>\n",
              "      <td>Kolkata</td>\n",
              "      <td>Semi-Furnished</td>\n",
              "      <td>Bachelors/Family</td>\n",
              "      <td>1</td>\n",
              "      <td>Contact Owner</td>\n",
              "    </tr>\n",
              "    <tr>\n",
              "      <th>2</th>\n",
              "      <td>2022-05-16</td>\n",
              "      <td>2</td>\n",
              "      <td>17000</td>\n",
              "      <td>1000</td>\n",
              "      <td>1 out of 3</td>\n",
              "      <td>Super Area</td>\n",
              "      <td>Salt Lake City Sector 2</td>\n",
              "      <td>Kolkata</td>\n",
              "      <td>Semi-Furnished</td>\n",
              "      <td>Bachelors/Family</td>\n",
              "      <td>1</td>\n",
              "      <td>Contact Owner</td>\n",
              "    </tr>\n",
              "    <tr>\n",
              "      <th>3</th>\n",
              "      <td>2022-07-04</td>\n",
              "      <td>2</td>\n",
              "      <td>10000</td>\n",
              "      <td>800</td>\n",
              "      <td>1 out of 2</td>\n",
              "      <td>Super Area</td>\n",
              "      <td>Dumdum Park</td>\n",
              "      <td>Kolkata</td>\n",
              "      <td>Unfurnished</td>\n",
              "      <td>Bachelors/Family</td>\n",
              "      <td>1</td>\n",
              "      <td>Contact Owner</td>\n",
              "    </tr>\n",
              "    <tr>\n",
              "      <th>4</th>\n",
              "      <td>2022-05-09</td>\n",
              "      <td>2</td>\n",
              "      <td>7500</td>\n",
              "      <td>850</td>\n",
              "      <td>1 out of 2</td>\n",
              "      <td>Carpet Area</td>\n",
              "      <td>South Dum Dum</td>\n",
              "      <td>Kolkata</td>\n",
              "      <td>Unfurnished</td>\n",
              "      <td>Bachelors</td>\n",
              "      <td>1</td>\n",
              "      <td>Contact Owner</td>\n",
              "    </tr>\n",
              "    <tr>\n",
              "      <th>5</th>\n",
              "      <td>2022-04-29</td>\n",
              "      <td>2</td>\n",
              "      <td>7000</td>\n",
              "      <td>600</td>\n",
              "      <td>Ground out of 1</td>\n",
              "      <td>Super Area</td>\n",
              "      <td>Thakurpukur</td>\n",
              "      <td>Kolkata</td>\n",
              "      <td>Unfurnished</td>\n",
              "      <td>Bachelors/Family</td>\n",
              "      <td>2</td>\n",
              "      <td>Contact Owner</td>\n",
              "    </tr>\n",
              "    <tr>\n",
              "      <th>6</th>\n",
              "      <td>2022-06-21</td>\n",
              "      <td>2</td>\n",
              "      <td>10000</td>\n",
              "      <td>700</td>\n",
              "      <td>Ground out of 4</td>\n",
              "      <td>Super Area</td>\n",
              "      <td>Malancha</td>\n",
              "      <td>Kolkata</td>\n",
              "      <td>Unfurnished</td>\n",
              "      <td>Bachelors</td>\n",
              "      <td>2</td>\n",
              "      <td>Contact Agent</td>\n",
              "    </tr>\n",
              "    <tr>\n",
              "      <th>7</th>\n",
              "      <td>2022-06-21</td>\n",
              "      <td>1</td>\n",
              "      <td>5000</td>\n",
              "      <td>250</td>\n",
              "      <td>1 out of 2</td>\n",
              "      <td>Super Area</td>\n",
              "      <td>Malancha</td>\n",
              "      <td>Kolkata</td>\n",
              "      <td>Unfurnished</td>\n",
              "      <td>Bachelors</td>\n",
              "      <td>1</td>\n",
              "      <td>Contact Agent</td>\n",
              "    </tr>\n",
              "    <tr>\n",
              "      <th>8</th>\n",
              "      <td>2022-06-07</td>\n",
              "      <td>2</td>\n",
              "      <td>26000</td>\n",
              "      <td>800</td>\n",
              "      <td>1 out of 2</td>\n",
              "      <td>Carpet Area</td>\n",
              "      <td>Palm Avenue Kolkata, Ballygunge</td>\n",
              "      <td>Kolkata</td>\n",
              "      <td>Unfurnished</td>\n",
              "      <td>Bachelors</td>\n",
              "      <td>2</td>\n",
              "      <td>Contact Agent</td>\n",
              "    </tr>\n",
              "    <tr>\n",
              "      <th>9</th>\n",
              "      <td>2022-06-20</td>\n",
              "      <td>2</td>\n",
              "      <td>10000</td>\n",
              "      <td>1000</td>\n",
              "      <td>1 out of 3</td>\n",
              "      <td>Carpet Area</td>\n",
              "      <td>Natunhat</td>\n",
              "      <td>Kolkata</td>\n",
              "      <td>Semi-Furnished</td>\n",
              "      <td>Bachelors/Family</td>\n",
              "      <td>2</td>\n",
              "      <td>Contact Owner</td>\n",
              "    </tr>\n",
              "  </tbody>\n",
              "</table>\n",
              "</div>\n",
              "      <button class=\"colab-df-convert\" onclick=\"convertToInteractive('df-41ba45b7-95c1-4ed6-abb7-0fe9b9769117')\"\n",
              "              title=\"Convert this dataframe to an interactive table.\"\n",
              "              style=\"display:none;\">\n",
              "        \n",
              "  <svg xmlns=\"http://www.w3.org/2000/svg\" height=\"24px\"viewBox=\"0 0 24 24\"\n",
              "       width=\"24px\">\n",
              "    <path d=\"M0 0h24v24H0V0z\" fill=\"none\"/>\n",
              "    <path d=\"M18.56 5.44l.94 2.06.94-2.06 2.06-.94-2.06-.94-.94-2.06-.94 2.06-2.06.94zm-11 1L8.5 8.5l.94-2.06 2.06-.94-2.06-.94L8.5 2.5l-.94 2.06-2.06.94zm10 10l.94 2.06.94-2.06 2.06-.94-2.06-.94-.94-2.06-.94 2.06-2.06.94z\"/><path d=\"M17.41 7.96l-1.37-1.37c-.4-.4-.92-.59-1.43-.59-.52 0-1.04.2-1.43.59L10.3 9.45l-7.72 7.72c-.78.78-.78 2.05 0 2.83L4 21.41c.39.39.9.59 1.41.59.51 0 1.02-.2 1.41-.59l7.78-7.78 2.81-2.81c.8-.78.8-2.07 0-2.86zM5.41 20L4 18.59l7.72-7.72 1.47 1.35L5.41 20z\"/>\n",
              "  </svg>\n",
              "      </button>\n",
              "      \n",
              "  <style>\n",
              "    .colab-df-container {\n",
              "      display:flex;\n",
              "      flex-wrap:wrap;\n",
              "      gap: 12px;\n",
              "    }\n",
              "\n",
              "    .colab-df-convert {\n",
              "      background-color: #E8F0FE;\n",
              "      border: none;\n",
              "      border-radius: 50%;\n",
              "      cursor: pointer;\n",
              "      display: none;\n",
              "      fill: #1967D2;\n",
              "      height: 32px;\n",
              "      padding: 0 0 0 0;\n",
              "      width: 32px;\n",
              "    }\n",
              "\n",
              "    .colab-df-convert:hover {\n",
              "      background-color: #E2EBFA;\n",
              "      box-shadow: 0px 1px 2px rgba(60, 64, 67, 0.3), 0px 1px 3px 1px rgba(60, 64, 67, 0.15);\n",
              "      fill: #174EA6;\n",
              "    }\n",
              "\n",
              "    [theme=dark] .colab-df-convert {\n",
              "      background-color: #3B4455;\n",
              "      fill: #D2E3FC;\n",
              "    }\n",
              "\n",
              "    [theme=dark] .colab-df-convert:hover {\n",
              "      background-color: #434B5C;\n",
              "      box-shadow: 0px 1px 3px 1px rgba(0, 0, 0, 0.15);\n",
              "      filter: drop-shadow(0px 1px 2px rgba(0, 0, 0, 0.3));\n",
              "      fill: #FFFFFF;\n",
              "    }\n",
              "  </style>\n",
              "\n",
              "      <script>\n",
              "        const buttonEl =\n",
              "          document.querySelector('#df-41ba45b7-95c1-4ed6-abb7-0fe9b9769117 button.colab-df-convert');\n",
              "        buttonEl.style.display =\n",
              "          google.colab.kernel.accessAllowed ? 'block' : 'none';\n",
              "\n",
              "        async function convertToInteractive(key) {\n",
              "          const element = document.querySelector('#df-41ba45b7-95c1-4ed6-abb7-0fe9b9769117');\n",
              "          const dataTable =\n",
              "            await google.colab.kernel.invokeFunction('convertToInteractive',\n",
              "                                                     [key], {});\n",
              "          if (!dataTable) return;\n",
              "\n",
              "          const docLinkHtml = 'Like what you see? Visit the ' +\n",
              "            '<a target=\"_blank\" href=https://colab.research.google.com/notebooks/data_table.ipynb>data table notebook</a>'\n",
              "            + ' to learn more about interactive tables.';\n",
              "          element.innerHTML = '';\n",
              "          dataTable['output_type'] = 'display_data';\n",
              "          await google.colab.output.renderOutput(dataTable, element);\n",
              "          const docLink = document.createElement('div');\n",
              "          docLink.innerHTML = docLinkHtml;\n",
              "          element.appendChild(docLink);\n",
              "        }\n",
              "      </script>\n",
              "    </div>\n",
              "  </div>\n",
              "  "
            ],
            "text/plain": [
              "    Posted On  BHK   Rent  Size            Floor    Area Type  \\\n",
              "0  2022-05-18    2  10000  1100  Ground out of 2   Super Area   \n",
              "1  2022-05-13    2  20000   800       1 out of 3   Super Area   \n",
              "2  2022-05-16    2  17000  1000       1 out of 3   Super Area   \n",
              "3  2022-07-04    2  10000   800       1 out of 2   Super Area   \n",
              "4  2022-05-09    2   7500   850       1 out of 2  Carpet Area   \n",
              "5  2022-04-29    2   7000   600  Ground out of 1   Super Area   \n",
              "6  2022-06-21    2  10000   700  Ground out of 4   Super Area   \n",
              "7  2022-06-21    1   5000   250       1 out of 2   Super Area   \n",
              "8  2022-06-07    2  26000   800       1 out of 2  Carpet Area   \n",
              "9  2022-06-20    2  10000  1000       1 out of 3  Carpet Area   \n",
              "\n",
              "                     Area Locality     City Furnishing Status  \\\n",
              "0                           Bandel  Kolkata       Unfurnished   \n",
              "1         Phool Bagan, Kankurgachi  Kolkata    Semi-Furnished   \n",
              "2          Salt Lake City Sector 2  Kolkata    Semi-Furnished   \n",
              "3                      Dumdum Park  Kolkata       Unfurnished   \n",
              "4                    South Dum Dum  Kolkata       Unfurnished   \n",
              "5                      Thakurpukur  Kolkata       Unfurnished   \n",
              "6                         Malancha  Kolkata       Unfurnished   \n",
              "7                         Malancha  Kolkata       Unfurnished   \n",
              "8  Palm Avenue Kolkata, Ballygunge  Kolkata       Unfurnished   \n",
              "9                         Natunhat  Kolkata    Semi-Furnished   \n",
              "\n",
              "   Tenant Preferred  Bathroom Point of Contact  \n",
              "0  Bachelors/Family         2    Contact Owner  \n",
              "1  Bachelors/Family         1    Contact Owner  \n",
              "2  Bachelors/Family         1    Contact Owner  \n",
              "3  Bachelors/Family         1    Contact Owner  \n",
              "4         Bachelors         1    Contact Owner  \n",
              "5  Bachelors/Family         2    Contact Owner  \n",
              "6         Bachelors         2    Contact Agent  \n",
              "7         Bachelors         1    Contact Agent  \n",
              "8         Bachelors         2    Contact Agent  \n",
              "9  Bachelors/Family         2    Contact Owner  "
            ]
          },
          "execution_count": 4,
          "metadata": {},
          "output_type": "execute_result"
        }
      ],
      "source": [
        "df = pd.read_csv('/content/gdrive/MyDrive/dataset/House_Rent_Dataset.csv')\n",
        "df.head(10)"
      ]
    },
    {
      "cell_type": "markdown",
      "metadata": {
        "id": "ZTvamMVa6IzX"
      },
      "source": [
        "#Data Understanding"
      ]
    },
    {
      "cell_type": "code",
      "execution_count": null,
      "metadata": {
        "colab": {
          "base_uri": "https://localhost:8080/"
        },
        "id": "AaPm8tr-6LcY",
        "outputId": "2e29cd30-a330-4464-8893-fd2890cc3be9"
      },
      "outputs": [
        {
          "data": {
            "text/plain": [
              "(4746, 12)"
            ]
          },
          "execution_count": 5,
          "metadata": {},
          "output_type": "execute_result"
        }
      ],
      "source": [
        "#Jumlah baris dan kolom pada dataset\n",
        "df.shape"
      ]
    },
    {
      "cell_type": "code",
      "execution_count": null,
      "metadata": {
        "colab": {
          "base_uri": "https://localhost:8080/"
        },
        "id": "lIvdVFsX3ayu",
        "outputId": "ed687e85-1f79-4fdd-f8f4-9dad8cd53fb1"
      },
      "outputs": [
        {
          "data": {
            "text/plain": [
              "Posted On            object\n",
              "BHK                   int64\n",
              "Rent                  int64\n",
              "Size                  int64\n",
              "Floor                object\n",
              "Area Type            object\n",
              "Area Locality        object\n",
              "City                 object\n",
              "Furnishing Status    object\n",
              "Tenant Preferred     object\n",
              "Bathroom              int64\n",
              "Point of Contact     object\n",
              "dtype: object"
            ]
          },
          "execution_count": 6,
          "metadata": {},
          "output_type": "execute_result"
        }
      ],
      "source": [
        "#Melihat kolom dan tipe data\n",
        "df.dtypes"
      ]
    },
    {
      "cell_type": "markdown",
      "metadata": {
        "id": "2J_JUzLKcKe_"
      },
      "source": [
        "## Data Categorical"
      ]
    },
    {
      "cell_type": "code",
      "execution_count": null,
      "metadata": {
        "colab": {
          "base_uri": "https://localhost:8080/"
        },
        "id": "BfFFOPAD5hyc",
        "outputId": "77f7373b-2a95-481f-ad44-81c943bf434e"
      },
      "outputs": [
        {
          "data": {
            "text/plain": [
              "2022-07-06    311\n",
              "2022-05-12    149\n",
              "2022-06-04    135\n",
              "2022-07-09    126\n",
              "2022-05-23    125\n",
              "             ... \n",
              "2022-04-24      6\n",
              "2022-04-25      6\n",
              "2022-04-26      2\n",
              "2022-04-13      1\n",
              "2022-07-11      1\n",
              "Name: Posted On, Length: 81, dtype: int64"
            ]
          },
          "execution_count": 7,
          "metadata": {},
          "output_type": "execute_result"
        }
      ],
      "source": [
        "#Mengecek jumlah dari setiap nilai pada fitur Posted On\n",
        "df[\"Posted On\"].value_counts()"
      ]
    },
    {
      "cell_type": "markdown",
      "metadata": {
        "id": "5q5CZ4nqI248"
      },
      "source": [
        "Fitur Posted On memiliki 81 nilai unique"
      ]
    },
    {
      "cell_type": "code",
      "execution_count": null,
      "metadata": {
        "colab": {
          "base_uri": "https://localhost:8080/"
        },
        "id": "F1Ul9vss7Z1-",
        "outputId": "242c48a8-ee79-432b-bf19-0e3851c64b27"
      },
      "outputs": [
        {
          "data": {
            "text/plain": [
              "1 out of 2         379\n",
              "Ground out of 2    350\n",
              "2 out of 3         312\n",
              "2 out of 4         308\n",
              "1 out of 3         293\n",
              "                  ... \n",
              "11 out of 31         1\n",
              "50 out of 75         1\n",
              "18 out of 26         1\n",
              "12 out of 27         1\n",
              "23 out of 34         1\n",
              "Name: Floor, Length: 480, dtype: int64"
            ]
          },
          "execution_count": 8,
          "metadata": {},
          "output_type": "execute_result"
        }
      ],
      "source": [
        "#Mengecek jumlah dari setiap nilai pada fitur Floor\n",
        "df[\"Floor\"].value_counts()"
      ]
    },
    {
      "cell_type": "markdown",
      "metadata": {
        "id": "2ghz3PTjJdTu"
      },
      "source": [
        "Fitur Posted On memiliki 480 nilai unique"
      ]
    },
    {
      "cell_type": "code",
      "execution_count": null,
      "metadata": {
        "colab": {
          "base_uri": "https://localhost:8080/"
        },
        "id": "qk8YS2fN6Xmu",
        "outputId": "60adde1a-b46d-42b9-ae36-664700714997"
      },
      "outputs": [
        {
          "data": {
            "text/plain": [
              "Bandra West                                37\n",
              "Gachibowli                                 29\n",
              "Electronic City                            24\n",
              "Velachery                                  22\n",
              "Miyapur, NH 9                              22\n",
              "                                           ..\n",
              "Kengeri Upanagara                           1\n",
              "Ittamadu, Banashankari, Outer Ring Road     1\n",
              "Rmv Extension, Armane Nagar                 1\n",
              "snv la                                      1\n",
              "Manikonda, Hyderabad                        1\n",
              "Name: Area Locality, Length: 2235, dtype: int64"
            ]
          },
          "execution_count": 9,
          "metadata": {},
          "output_type": "execute_result"
        }
      ],
      "source": [
        "#Mengecek jumlah dari setiap nilai pada fitur Area Locality\n",
        "df[\"Area Locality\"].value_counts()"
      ]
    },
    {
      "cell_type": "markdown",
      "metadata": {
        "id": "C1JEPvkhOpCE"
      },
      "source": [
        "Fitur Area Locality memiliki 2235 nilai unique"
      ]
    },
    {
      "cell_type": "code",
      "execution_count": null,
      "metadata": {
        "colab": {
          "base_uri": "https://localhost:8080/"
        },
        "id": "qtv94MSD7337",
        "outputId": "b6a70a02-6c83-4914-c3d4-039814b1c27d"
      },
      "outputs": [
        {
          "data": {
            "text/plain": [
              "Super Area     2446\n",
              "Carpet Area    2298\n",
              "Built Area        2\n",
              "Name: Area Type, dtype: int64"
            ]
          },
          "execution_count": 10,
          "metadata": {},
          "output_type": "execute_result"
        }
      ],
      "source": [
        "#Mengecek jumlah dari setiap nilai pada fitur Area Type\n",
        "df[\"Area Type\"].value_counts()"
      ]
    },
    {
      "cell_type": "markdown",
      "metadata": {
        "id": "quzgDd4xPiXR"
      },
      "source": [
        "Fitur Area Type memiliki 3 nilai unique"
      ]
    },
    {
      "cell_type": "code",
      "execution_count": null,
      "metadata": {
        "colab": {
          "base_uri": "https://localhost:8080/"
        },
        "id": "0UQYJp8t8KUW",
        "outputId": "f586ccfe-de5b-40af-cde3-15c89c11b3aa"
      },
      "outputs": [
        {
          "data": {
            "text/plain": [
              "Mumbai       972\n",
              "Chennai      891\n",
              "Bangalore    886\n",
              "Hyderabad    868\n",
              "Delhi        605\n",
              "Kolkata      524\n",
              "Name: City, dtype: int64"
            ]
          },
          "execution_count": 11,
          "metadata": {},
          "output_type": "execute_result"
        }
      ],
      "source": [
        "#Mengecek jumlah dari setiap nilai pada fitur City\n",
        "df[\"City\"].value_counts()"
      ]
    },
    {
      "cell_type": "markdown",
      "metadata": {
        "id": "NES-tDwCPnHh"
      },
      "source": [
        "Fitur City memiliki 6 nilai unique"
      ]
    },
    {
      "cell_type": "code",
      "execution_count": null,
      "metadata": {
        "colab": {
          "base_uri": "https://localhost:8080/"
        },
        "id": "9rvKiVYL8RZe",
        "outputId": "c7565ecd-53ca-45e5-a021-3a8ca76f473e"
      },
      "outputs": [
        {
          "data": {
            "text/plain": [
              "Bachelors/Family    3444\n",
              "Bachelors            830\n",
              "Family               472\n",
              "Name: Tenant Preferred, dtype: int64"
            ]
          },
          "execution_count": 12,
          "metadata": {},
          "output_type": "execute_result"
        }
      ],
      "source": [
        "#Mengecek jumlah dari setiap nilai pada fitur Tenant Preferred\n",
        "df[\"Tenant Preferred\"].value_counts()"
      ]
    },
    {
      "cell_type": "markdown",
      "metadata": {
        "id": "5cHdgQ2rPwbE"
      },
      "source": [
        "Fitur Tenant Preferred memiliki 3 nilai unique"
      ]
    },
    {
      "cell_type": "code",
      "execution_count": null,
      "metadata": {
        "id": "il6n4zW38MEc"
      },
      "outputs": [],
      "source": [
        "#Mengecek jumlah dari setiap nilai pada fitur Furnishing Status\n",
        "df[\"Furnishing Status\"].value_counts()"
      ]
    },
    {
      "cell_type": "markdown",
      "metadata": {
        "id": "TmSp1PlMPybz"
      },
      "source": [
        "Fitur Furnishing Status memiliki 3 nilai unique"
      ]
    },
    {
      "cell_type": "code",
      "execution_count": null,
      "metadata": {
        "colab": {
          "base_uri": "https://localhost:8080/"
        },
        "id": "Xwq5ga5p8bK4",
        "outputId": "025c762f-7fc4-4fa0-e2f3-4298645d61f7"
      },
      "outputs": [
        {
          "data": {
            "text/plain": [
              "Contact Owner      3216\n",
              "Contact Agent      1529\n",
              "Contact Builder       1\n",
              "Name: Point of Contact, dtype: int64"
            ]
          },
          "execution_count": 14,
          "metadata": {},
          "output_type": "execute_result"
        }
      ],
      "source": [
        "#Mengecek jumlah dari setiap nilai pada fitur Point of Contact\n",
        "df[\"Point of Contact\"].value_counts()"
      ]
    },
    {
      "cell_type": "markdown",
      "metadata": {
        "id": "e1HDJGf5P8eu"
      },
      "source": [
        "Fitur Point of Contact memiliki 3 nilai unique"
      ]
    },
    {
      "cell_type": "code",
      "execution_count": null,
      "metadata": {
        "colab": {
          "base_uri": "https://localhost:8080/",
          "height": 296
        },
        "id": "dvK85WPX7e6z",
        "outputId": "c17a7842-6ba6-4d0c-f2c1-42260e66cd0f"
      },
      "outputs": [
        {
          "data": {
            "text/plain": [
              "<matplotlib.axes._subplots.AxesSubplot at 0x7f5c2be7fa50>"
            ]
          },
          "execution_count": 15,
          "metadata": {},
          "output_type": "execute_result"
        },
        {
          "data": {
            "image/png": "[encoded data removed]",
            "text/plain": [
              "<Figure size 432x288 with 1 Axes>"
            ]
          },
          "metadata": {},
          "output_type": "display_data"
        }
      ],
      "source": [
        "#Countplot Area Type\n",
        "sns.countplot(\"Area Type\",data=df)"
      ]
    },
    {
      "cell_type": "code",
      "execution_count": null,
      "metadata": {
        "colab": {
          "base_uri": "https://localhost:8080/",
          "height": 296
        },
        "id": "RpK9nqnI87r_",
        "outputId": "b281826e-d2c1-4598-8cee-dca4a2210d2d"
      },
      "outputs": [
        {
          "data": {
            "text/plain": [
              "<matplotlib.axes._subplots.AxesSubplot at 0x7f5c13362b90>"
            ]
          },
          "execution_count": 16,
          "metadata": {},
          "output_type": "execute_result"
        },
        {
          "data": {
            "image/png": "[encoded data removed]",
            "text/plain": [
              "<Figure size 432x288 with 1 Axes>"
            ]
          },
          "metadata": {},
          "output_type": "display_data"
        }
      ],
      "source": [
        "#Countplot City\n",
        "sns.countplot(\"City\",data=df)"
      ]
    },
    {
      "cell_type": "code",
      "execution_count": null,
      "metadata": {
        "colab": {
          "base_uri": "https://localhost:8080/",
          "height": 296
        },
        "id": "d8ZQZdaz9COb",
        "outputId": "adb324e3-486e-405e-9c6b-4b085504ee37"
      },
      "outputs": [
        {
          "data": {
            "text/plain": [
              "<matplotlib.axes._subplots.AxesSubplot at 0x7f5c12dddc50>"
            ]
          },
          "execution_count": 17,
          "metadata": {},
          "output_type": "execute_result"
        },
        {
          "data": {
            "image/png": "[encoded data removed]",
            "text/plain": [
              "<Figure size 432x288 with 1 Axes>"
            ]
          },
          "metadata": {},
          "output_type": "display_data"
        }
      ],
      "source": [
        "#Countplot Tenant Preferred\n",
        "sns.countplot(\"Tenant Preferred\",data=df)"
      ]
    },
    {
      "cell_type": "code",
      "execution_count": null,
      "metadata": {
        "colab": {
          "base_uri": "https://localhost:8080/",
          "height": 296
        },
        "id": "QlYmiQoM8-jl",
        "outputId": "92998f8b-0bf8-4523-f8bb-a76a8761ac9f"
      },
      "outputs": [
        {
          "data": {
            "text/plain": [
              "<matplotlib.axes._subplots.AxesSubplot at 0x7f5c12dc8e90>"
            ]
          },
          "execution_count": 18,
          "metadata": {},
          "output_type": "execute_result"
        },
        {
          "data": {
            "image/png": "[encoded data removed]",
            "text/plain": [
              "<Figure size 432x288 with 1 Axes>"
            ]
          },
          "metadata": {},
          "output_type": "display_data"
        }
      ],
      "source": [
        "#Countplot Furnishing Status\n",
        "sns.countplot(\"Furnishing Status\",data=df)"
      ]
    },
    {
      "cell_type": "code",
      "execution_count": null,
      "metadata": {
        "colab": {
          "base_uri": "https://localhost:8080/",
          "height": 296
        },
        "id": "8LuJvHJ49GXF",
        "outputId": "8b23936f-357d-4b37-cf66-8e8f7eda3497"
      },
      "outputs": [
        {
          "data": {
            "text/plain": [
              "<matplotlib.axes._subplots.AxesSubplot at 0x7f5c12d17990>"
            ]
          },
          "execution_count": 19,
          "metadata": {},
          "output_type": "execute_result"
        },
        {
          "data": {
            "image/png": "[encoded data removed]",
            "text/plain": [
              "<Figure size 432x288 with 1 Axes>"
            ]
          },
          "metadata": {},
          "output_type": "display_data"
        }
      ],
      "source": [
        "#Countplot Point of Contact\n",
        "sns.countplot(\"Point of Contact\",data=df)"
      ]
    },
    {
      "cell_type": "code",
      "execution_count": null,
      "metadata": {
        "colab": {
          "base_uri": "https://localhost:8080/",
          "height": 296
        },
        "id": "IbJkpq0NBUGl",
        "outputId": "dd0c60fc-5d16-4a04-c20b-9e077c08bbd6"
      },
      "outputs": [
        {
          "data": {
            "text/plain": [
              "<matplotlib.axes._subplots.AxesSubplot at 0x7f5c12c9f610>"
            ]
          },
          "execution_count": 20,
          "metadata": {},
          "output_type": "execute_result"
        },
        {
          "data": {
            "image/png": "[encoded data removed]",
            "text/plain": [
              "<Figure size 432x288 with 1 Axes>"
            ]
          },
          "metadata": {},
          "output_type": "display_data"
        }
      ],
      "source": [
        "#Lineplot Area Type\n",
        "sns.lineplot(x=df['Area Type'], y=df['Rent'])"
      ]
    },
    {
      "cell_type": "code",
      "execution_count": null,
      "metadata": {
        "colab": {
          "base_uri": "https://localhost:8080/",
          "height": 296
        },
        "id": "HivqovkRBV2G",
        "outputId": "913217f2-2a11-4cf7-c26f-f874544de307"
      },
      "outputs": [
        {
          "data": {
            "text/plain": [
              "<matplotlib.axes._subplots.AxesSubplot at 0x7f5c12c5c450>"
            ]
          },
          "execution_count": 21,
          "metadata": {},
          "output_type": "execute_result"
        },
        {
          "data": {
            "image/png": "[encoded data removed]",
            "text/plain": [
              "<Figure size 432x288 with 1 Axes>"
            ]
          },
          "metadata": {},
          "output_type": "display_data"
        }
      ],
      "source": [
        "#Lineplot City\n",
        "sns.lineplot(x=df['City'], y=df['Rent'])"
      ]
    },
    {
      "cell_type": "code",
      "execution_count": null,
      "metadata": {
        "colab": {
          "base_uri": "https://localhost:8080/",
          "height": 296
        },
        "id": "KBb2jWvsBmyx",
        "outputId": "54739a13-ba2b-43f5-e4f3-8b758670e421"
      },
      "outputs": [
        {
          "data": {
            "text/plain": [
              "<matplotlib.axes._subplots.AxesSubplot at 0x7f5c12ba3650>"
            ]
          },
          "execution_count": 22,
          "metadata": {},
          "output_type": "execute_result"
        },
        {
          "data": {
            "image/png": "[encoded data removed]",
            "text/plain": [
              "<Figure size 432x288 with 1 Axes>"
            ]
          },
          "metadata": {},
          "output_type": "display_data"
        }
      ],
      "source": [
        "#Lineplot Furnishing Status\n",
        "sns.lineplot(x=df['Furnishing Status'], y=df['Rent'])"
      ]
    },
    {
      "cell_type": "code",
      "execution_count": null,
      "metadata": {
        "colab": {
          "background_save": true,
          "base_uri": "https://localhost:8080/",
          "height": 296
        },
        "id": "pB7F8UWMBZOn",
        "outputId": "f4bfcd35-05ec-4437-abcd-5e3c27cc0b36"
      },
      "outputs": [
        {
          "data": {
            "text/plain": [
              "<matplotlib.axes._subplots.AxesSubplot at 0x7f386934a150>"
            ]
          },
          "execution_count": 22,
          "metadata": {},
          "output_type": "execute_result"
        },
        {
          "data": {
            "image/png": "[encoded data removed]",
            "text/plain": [
              "<Figure size 432x288 with 1 Axes>"
            ]
          },
          "metadata": {},
          "output_type": "display_data"
        }
      ],
      "source": [
        "#Lineplot Tenant Preferred\n",
        "sns.lineplot(x=df['Tenant Preferred'], y=df['Rent'])"
      ]
    },
    {
      "cell_type": "code",
      "execution_count": null,
      "metadata": {
        "colab": {
          "base_uri": "https://localhost:8080/",
          "height": 296
        },
        "id": "w1WjXXx6BgiF",
        "outputId": "aa237f5a-4ce9-4281-f109-bcd363b091c0"
      },
      "outputs": [
        {
          "data": {
            "text/plain": [
              "<matplotlib.axes._subplots.AxesSubplot at 0x7f5c12b36ad0>"
            ]
          },
          "execution_count": 24,
          "metadata": {},
          "output_type": "execute_result"
        },
        {
          "data": {
            "image/png": "[encoded data removed]",
            "text/plain": [
              "<Figure size 432x288 with 1 Axes>"
            ]
          },
          "metadata": {},
          "output_type": "display_data"
        }
      ],
      "source": [
        "#Lineplot Point of Contact\n",
        "sns.lineplot(x=df['Point of Contact'], y=df['Rent'])"
      ]
    },
    {
      "cell_type": "markdown",
      "metadata": {
        "id": "eEnby_1McQ5A"
      },
      "source": [
        "## Data Numerical"
      ]
    },
    {
      "cell_type": "code",
      "execution_count": null,
      "metadata": {
        "colab": {
          "base_uri": "https://localhost:8080/",
          "height": 308
        },
        "id": "BlC83ID1cgWp",
        "outputId": "7ddb6825-54c0-4ad6-b994-9ebbcdb623e0"
      },
      "outputs": [
        {
          "data": {
            "image/png": "[encoded data removed]",
            "text/plain": [
              "<Figure size 432x288 with 1 Axes>"
            ]
          },
          "metadata": {},
          "output_type": "display_data"
        }
      ],
      "source": [
        "#BHK Distribution\n",
        "df['BHK'].hist(bins=5)\n",
        "plt.suptitle('BHK distribution of rented house')\n",
        "plt.xlabel('BHK')\n",
        "plt.ylabel('Count')\n",
        "plt.show()"
      ]
    },
    {
      "cell_type": "code",
      "execution_count": null,
      "metadata": {
        "colab": {
          "base_uri": "https://localhost:8080/",
          "height": 308
        },
        "id": "xo2qjRbMCe5J",
        "outputId": "9df18b72-4050-4a36-c7ca-44e4b2096529"
      },
      "outputs": [
        {
          "data": {
            "image/png": "[encoded data removed]",
            "text/plain": [
              "<Figure size 432x288 with 1 Axes>"
            ]
          },
          "metadata": {},
          "output_type": "display_data"
        }
      ],
      "source": [
        "#Size Distribution\n",
        "df['Size'].hist(bins=5)\n",
        "plt.suptitle('Size distribution of rented house')\n",
        "plt.xlabel('Size')\n",
        "plt.ylabel('Count')\n",
        "plt.show()"
      ]
    },
    {
      "cell_type": "code",
      "execution_count": null,
      "metadata": {
        "colab": {
          "base_uri": "https://localhost:8080/",
          "height": 308
        },
        "id": "7DBK9w1gC2_z",
        "outputId": "48941092-cbfe-4bc8-b701-0256e4f8c29f"
      },
      "outputs": [
        {
          "data": {
            "image/png": "[encoded data removed]",
            "text/plain": [
              "<Figure size 432x288 with 1 Axes>"
            ]
          },
          "metadata": {},
          "output_type": "display_data"
        }
      ],
      "source": [
        "#Rent Distribution\n",
        "df['Rent'].hist(bins=5)\n",
        "plt.suptitle('Rent distribution of rented house')\n",
        "plt.xlabel('Rent')\n",
        "plt.ylabel('Count')\n",
        "plt.show()"
      ]
    },
    {
      "cell_type": "code",
      "execution_count": null,
      "metadata": {
        "colab": {
          "base_uri": "https://localhost:8080/",
          "height": 308
        },
        "id": "HIuaj41YckLO",
        "outputId": "d897163f-14a4-4251-c114-a1ba1ae44745"
      },
      "outputs": [
        {
          "data": {
            "image/png": "[encoded data removed]",
            "text/plain": [
              "<Figure size 432x288 with 1 Axes>"
            ]
          },
          "metadata": {},
          "output_type": "display_data"
        }
      ],
      "source": [
        "#Bathroom Distribution\n",
        "df['Bathroom'].hist(bins=5)\n",
        "plt.suptitle('Bathroom distribution of rented house')\n",
        "plt.xlabel('Bathroom')\n",
        "plt.ylabel('Count')\n",
        "plt.show()"
      ]
    },
    {
      "cell_type": "code",
      "execution_count": null,
      "metadata": {
        "colab": {
          "base_uri": "https://localhost:8080/",
          "height": 300
        },
        "id": "0KR03ka76ffI",
        "outputId": "13220341-ce25-42d5-9313-37de7b0e80f1"
      },
      "outputs": [
        {
          "data": {
            "text/html": [
              "\n",
              "  <div id=\"df-f6e6de98-9066-4feb-96dd-7a12e8744bf0\">\n",
              "    <div class=\"colab-df-container\">\n",
              "      <div>\n",
              "<style scoped>\n",
              "    .dataframe tbody tr th:only-of-type {\n",
              "        vertical-align: middle;\n",
              "    }\n",
              "\n",
              "    .dataframe tbody tr th {\n",
              "        vertical-align: top;\n",
              "    }\n",
              "\n",
              "    .dataframe thead th {\n",
              "        text-align: right;\n",
              "    }\n",
              "</style>\n",
              "<table border=\"1\" class=\"dataframe\">\n",
              "  <thead>\n",
              "    <tr style=\"text-align: right;\">\n",
              "      <th></th>\n",
              "      <th>BHK</th>\n",
              "      <th>Rent</th>\n",
              "      <th>Size</th>\n",
              "      <th>Bathroom</th>\n",
              "    </tr>\n",
              "  </thead>\n",
              "  <tbody>\n",
              "    <tr>\n",
              "      <th>count</th>\n",
              "      <td>4746.000000</td>\n",
              "      <td>4.746000e+03</td>\n",
              "      <td>4746.000000</td>\n",
              "      <td>4746.000000</td>\n",
              "    </tr>\n",
              "    <tr>\n",
              "      <th>mean</th>\n",
              "      <td>2.083860</td>\n",
              "      <td>3.499345e+04</td>\n",
              "      <td>967.490729</td>\n",
              "      <td>1.965866</td>\n",
              "    </tr>\n",
              "    <tr>\n",
              "      <th>std</th>\n",
              "      <td>0.832256</td>\n",
              "      <td>7.810641e+04</td>\n",
              "      <td>634.202328</td>\n",
              "      <td>0.884532</td>\n",
              "    </tr>\n",
              "    <tr>\n",
              "      <th>min</th>\n",
              "      <td>1.000000</td>\n",
              "      <td>1.200000e+03</td>\n",
              "      <td>10.000000</td>\n",
              "      <td>1.000000</td>\n",
              "    </tr>\n",
              "    <tr>\n",
              "      <th>25%</th>\n",
              "      <td>2.000000</td>\n",
              "      <td>1.000000e+04</td>\n",
              "      <td>550.000000</td>\n",
              "      <td>1.000000</td>\n",
              "    </tr>\n",
              "    <tr>\n",
              "      <th>50%</th>\n",
              "      <td>2.000000</td>\n",
              "      <td>1.600000e+04</td>\n",
              "      <td>850.000000</td>\n",
              "      <td>2.000000</td>\n",
              "    </tr>\n",
              "    <tr>\n",
              "      <th>75%</th>\n",
              "      <td>3.000000</td>\n",
              "      <td>3.300000e+04</td>\n",
              "      <td>1200.000000</td>\n",
              "      <td>2.000000</td>\n",
              "    </tr>\n",
              "    <tr>\n",
              "      <th>max</th>\n",
              "      <td>6.000000</td>\n",
              "      <td>3.500000e+06</td>\n",
              "      <td>8000.000000</td>\n",
              "      <td>10.000000</td>\n",
              "    </tr>\n",
              "  </tbody>\n",
              "</table>\n",
              "</div>\n",
              "      <button class=\"colab-df-convert\" onclick=\"convertToInteractive('df-f6e6de98-9066-4feb-96dd-7a12e8744bf0')\"\n",
              "              title=\"Convert this dataframe to an interactive table.\"\n",
              "              style=\"display:none;\">\n",
              "        \n",
              "  <svg xmlns=\"http://www.w3.org/2000/svg\" height=\"24px\"viewBox=\"0 0 24 24\"\n",
              "       width=\"24px\">\n",
              "    <path d=\"M0 0h24v24H0V0z\" fill=\"none\"/>\n",
              "    <path d=\"M18.56 5.44l.94 2.06.94-2.06 2.06-.94-2.06-.94-.94-2.06-.94 2.06-2.06.94zm-11 1L8.5 8.5l.94-2.06 2.06-.94-2.06-.94L8.5 2.5l-.94 2.06-2.06.94zm10 10l.94 2.06.94-2.06 2.06-.94-2.06-.94-.94-2.06-.94 2.06-2.06.94z\"/><path d=\"M17.41 7.96l-1.37-1.37c-.4-.4-.92-.59-1.43-.59-.52 0-1.04.2-1.43.59L10.3 9.45l-7.72 7.72c-.78.78-.78 2.05 0 2.83L4 21.41c.39.39.9.59 1.41.59.51 0 1.02-.2 1.41-.59l7.78-7.78 2.81-2.81c.8-.78.8-2.07 0-2.86zM5.41 20L4 18.59l7.72-7.72 1.47 1.35L5.41 20z\"/>\n",
              "  </svg>\n",
              "      </button>\n",
              "      \n",
              "  <style>\n",
              "    .colab-df-container {\n",
              "      display:flex;\n",
              "      flex-wrap:wrap;\n",
              "      gap: 12px;\n",
              "    }\n",
              "\n",
              "    .colab-df-convert {\n",
              "      background-color: #E8F0FE;\n",
              "      border: none;\n",
              "      border-radius: 50%;\n",
              "      cursor: pointer;\n",
              "      display: none;\n",
              "      fill: #1967D2;\n",
              "      height: 32px;\n",
              "      padding: 0 0 0 0;\n",
              "      width: 32px;\n",
              "    }\n",
              "\n",
              "    .colab-df-convert:hover {\n",
              "      background-color: #E2EBFA;\n",
              "      box-shadow: 0px 1px 2px rgba(60, 64, 67, 0.3), 0px 1px 3px 1px rgba(60, 64, 67, 0.15);\n",
              "      fill: #174EA6;\n",
              "    }\n",
              "\n",
              "    [theme=dark] .colab-df-convert {\n",
              "      background-color: #3B4455;\n",
              "      fill: #D2E3FC;\n",
              "    }\n",
              "\n",
              "    [theme=dark] .colab-df-convert:hover {\n",
              "      background-color: #434B5C;\n",
              "      box-shadow: 0px 1px 3px 1px rgba(0, 0, 0, 0.15);\n",
              "      filter: drop-shadow(0px 1px 2px rgba(0, 0, 0, 0.3));\n",
              "      fill: #FFFFFF;\n",
              "    }\n",
              "  </style>\n",
              "\n",
              "      <script>\n",
              "        const buttonEl =\n",
              "          document.querySelector('#df-f6e6de98-9066-4feb-96dd-7a12e8744bf0 button.colab-df-convert');\n",
              "        buttonEl.style.display =\n",
              "          google.colab.kernel.accessAllowed ? 'block' : 'none';\n",
              "\n",
              "        async function convertToInteractive(key) {\n",
              "          const element = document.querySelector('#df-f6e6de98-9066-4feb-96dd-7a12e8744bf0');\n",
              "          const dataTable =\n",
              "            await google.colab.kernel.invokeFunction('convertToInteractive',\n",
              "                                                     [key], {});\n",
              "          if (!dataTable) return;\n",
              "\n",
              "          const docLinkHtml = 'Like what you see? Visit the ' +\n",
              "            '<a target=\"_blank\" href=https://colab.research.google.com/notebooks/data_table.ipynb>data table notebook</a>'\n",
              "            + ' to learn more about interactive tables.';\n",
              "          element.innerHTML = '';\n",
              "          dataTable['output_type'] = 'display_data';\n",
              "          await google.colab.output.renderOutput(dataTable, element);\n",
              "          const docLink = document.createElement('div');\n",
              "          docLink.innerHTML = docLinkHtml;\n",
              "          element.appendChild(docLink);\n",
              "        }\n",
              "      </script>\n",
              "    </div>\n",
              "  </div>\n",
              "  "
            ],
            "text/plain": [
              "               BHK          Rent         Size     Bathroom\n",
              "count  4746.000000  4.746000e+03  4746.000000  4746.000000\n",
              "mean      2.083860  3.499345e+04   967.490729     1.965866\n",
              "std       0.832256  7.810641e+04   634.202328     0.884532\n",
              "min       1.000000  1.200000e+03    10.000000     1.000000\n",
              "25%       2.000000  1.000000e+04   550.000000     1.000000\n",
              "50%       2.000000  1.600000e+04   850.000000     2.000000\n",
              "75%       3.000000  3.300000e+04  1200.000000     2.000000\n",
              "max       6.000000  3.500000e+06  8000.000000    10.000000"
            ]
          },
          "execution_count": 29,
          "metadata": {},
          "output_type": "execute_result"
        }
      ],
      "source": [
        "#Describe data\n",
        "df.describe()"
      ]
    },
    {
      "cell_type": "code",
      "execution_count": null,
      "metadata": {
        "colab": {
          "base_uri": "https://localhost:8080/",
          "height": 175
        },
        "id": "lTxv8cDw6nr2",
        "outputId": "53149db3-9591-4aeb-e542-dd8b32525091"
      },
      "outputs": [
        {
          "data": {
            "text/html": [
              "\n",
              "  <div id=\"df-cc1006c2-db07-46db-9e87-6f101f2f5798\">\n",
              "    <div class=\"colab-df-container\">\n",
              "      <div>\n",
              "<style scoped>\n",
              "    .dataframe tbody tr th:only-of-type {\n",
              "        vertical-align: middle;\n",
              "    }\n",
              "\n",
              "    .dataframe tbody tr th {\n",
              "        vertical-align: top;\n",
              "    }\n",
              "\n",
              "    .dataframe thead th {\n",
              "        text-align: right;\n",
              "    }\n",
              "</style>\n",
              "<table border=\"1\" class=\"dataframe\">\n",
              "  <thead>\n",
              "    <tr style=\"text-align: right;\">\n",
              "      <th></th>\n",
              "      <th>BHK</th>\n",
              "      <th>Rent</th>\n",
              "      <th>Size</th>\n",
              "      <th>Bathroom</th>\n",
              "    </tr>\n",
              "  </thead>\n",
              "  <tbody>\n",
              "    <tr>\n",
              "      <th>BHK</th>\n",
              "      <td>1.000000</td>\n",
              "      <td>0.369718</td>\n",
              "      <td>0.716145</td>\n",
              "      <td>0.794885</td>\n",
              "    </tr>\n",
              "    <tr>\n",
              "      <th>Rent</th>\n",
              "      <td>0.369718</td>\n",
              "      <td>1.000000</td>\n",
              "      <td>0.413551</td>\n",
              "      <td>0.441215</td>\n",
              "    </tr>\n",
              "    <tr>\n",
              "      <th>Size</th>\n",
              "      <td>0.716145</td>\n",
              "      <td>0.413551</td>\n",
              "      <td>1.000000</td>\n",
              "      <td>0.740703</td>\n",
              "    </tr>\n",
              "    <tr>\n",
              "      <th>Bathroom</th>\n",
              "      <td>0.794885</td>\n",
              "      <td>0.441215</td>\n",
              "      <td>0.740703</td>\n",
              "      <td>1.000000</td>\n",
              "    </tr>\n",
              "  </tbody>\n",
              "</table>\n",
              "</div>\n",
              "      <button class=\"colab-df-convert\" onclick=\"convertToInteractive('df-cc1006c2-db07-46db-9e87-6f101f2f5798')\"\n",
              "              title=\"Convert this dataframe to an interactive table.\"\n",
              "              style=\"display:none;\">\n",
              "        \n",
              "  <svg xmlns=\"http://www.w3.org/2000/svg\" height=\"24px\"viewBox=\"0 0 24 24\"\n",
              "       width=\"24px\">\n",
              "    <path d=\"M0 0h24v24H0V0z\" fill=\"none\"/>\n",
              "    <path d=\"M18.56 5.44l.94 2.06.94-2.06 2.06-.94-2.06-.94-.94-2.06-.94 2.06-2.06.94zm-11 1L8.5 8.5l.94-2.06 2.06-.94-2.06-.94L8.5 2.5l-.94 2.06-2.06.94zm10 10l.94 2.06.94-2.06 2.06-.94-2.06-.94-.94-2.06-.94 2.06-2.06.94z\"/><path d=\"M17.41 7.96l-1.37-1.37c-.4-.4-.92-.59-1.43-.59-.52 0-1.04.2-1.43.59L10.3 9.45l-7.72 7.72c-.78.78-.78 2.05 0 2.83L4 21.41c.39.39.9.59 1.41.59.51 0 1.02-.2 1.41-.59l7.78-7.78 2.81-2.81c.8-.78.8-2.07 0-2.86zM5.41 20L4 18.59l7.72-7.72 1.47 1.35L5.41 20z\"/>\n",
              "  </svg>\n",
              "      </button>\n",
              "      \n",
              "  <style>\n",
              "    .colab-df-container {\n",
              "      display:flex;\n",
              "      flex-wrap:wrap;\n",
              "      gap: 12px;\n",
              "    }\n",
              "\n",
              "    .colab-df-convert {\n",
              "      background-color: #E8F0FE;\n",
              "      border: none;\n",
              "      border-radius: 50%;\n",
              "      cursor: pointer;\n",
              "      display: none;\n",
              "      fill: #1967D2;\n",
              "      height: 32px;\n",
              "      padding: 0 0 0 0;\n",
              "      width: 32px;\n",
              "    }\n",
              "\n",
              "    .colab-df-convert:hover {\n",
              "      background-color: #E2EBFA;\n",
              "      box-shadow: 0px 1px 2px rgba(60, 64, 67, 0.3), 0px 1px 3px 1px rgba(60, 64, 67, 0.15);\n",
              "      fill: #174EA6;\n",
              "    }\n",
              "\n",
              "    [theme=dark] .colab-df-convert {\n",
              "      background-color: #3B4455;\n",
              "      fill: #D2E3FC;\n",
              "    }\n",
              "\n",
              "    [theme=dark] .colab-df-convert:hover {\n",
              "      background-color: #434B5C;\n",
              "      box-shadow: 0px 1px 3px 1px rgba(0, 0, 0, 0.15);\n",
              "      filter: drop-shadow(0px 1px 2px rgba(0, 0, 0, 0.3));\n",
              "      fill: #FFFFFF;\n",
              "    }\n",
              "  </style>\n",
              "\n",
              "      <script>\n",
              "        const buttonEl =\n",
              "          document.querySelector('#df-cc1006c2-db07-46db-9e87-6f101f2f5798 button.colab-df-convert');\n",
              "        buttonEl.style.display =\n",
              "          google.colab.kernel.accessAllowed ? 'block' : 'none';\n",
              "\n",
              "        async function convertToInteractive(key) {\n",
              "          const element = document.querySelector('#df-cc1006c2-db07-46db-9e87-6f101f2f5798');\n",
              "          const dataTable =\n",
              "            await google.colab.kernel.invokeFunction('convertToInteractive',\n",
              "                                                     [key], {});\n",
              "          if (!dataTable) return;\n",
              "\n",
              "          const docLinkHtml = 'Like what you see? Visit the ' +\n",
              "            '<a target=\"_blank\" href=https://colab.research.google.com/notebooks/data_table.ipynb>data table notebook</a>'\n",
              "            + ' to learn more about interactive tables.';\n",
              "          element.innerHTML = '';\n",
              "          dataTable['output_type'] = 'display_data';\n",
              "          await google.colab.output.renderOutput(dataTable, element);\n",
              "          const docLink = document.createElement('div');\n",
              "          docLink.innerHTML = docLinkHtml;\n",
              "          element.appendChild(docLink);\n",
              "        }\n",
              "      </script>\n",
              "    </div>\n",
              "  </div>\n",
              "  "
            ],
            "text/plain": [
              "               BHK      Rent      Size  Bathroom\n",
              "BHK       1.000000  0.369718  0.716145  0.794885\n",
              "Rent      0.369718  1.000000  0.413551  0.441215\n",
              "Size      0.716145  0.413551  1.000000  0.740703\n",
              "Bathroom  0.794885  0.441215  0.740703  1.000000"
            ]
          },
          "execution_count": 30,
          "metadata": {},
          "output_type": "execute_result"
        }
      ],
      "source": [
        "#Melihat Korelasi/Hubungan antar Kolom\n",
        "df.corr()"
      ]
    },
    {
      "cell_type": "markdown",
      "metadata": {
        "id": "R8xcZHm36BxY"
      },
      "source": [
        "#Data Preparation and Cleaning"
      ]
    },
    {
      "cell_type": "markdown",
      "metadata": {
        "id": "CCFC3aejPOpB"
      },
      "source": [
        "## Drop kolom yang tidak diperlukan"
      ]
    },
    {
      "cell_type": "code",
      "execution_count": null,
      "metadata": {
        "id": "ckSuxWd79-R0"
      },
      "outputs": [],
      "source": [
        "#drop kolom yang tidak digunakan\n",
        "df.drop(['Posted On', 'Floor','Area Locality'],axis=1,inplace=True)"
      ]
    },
    {
      "cell_type": "markdown",
      "metadata": {
        "id": "55xajItk-Nhx"
      },
      "source": [
        "Kolom 'Posted On', 'Floor', dan 'Area Locality' di-drop karena kolom-kolom tersebut memiliki banyak sekali nilai yang unique"
      ]
    },
    {
      "cell_type": "code",
      "execution_count": null,
      "metadata": {
        "colab": {
          "base_uri": "https://localhost:8080/"
        },
        "id": "5bg5MFVB-qJ6",
        "outputId": "22d6bf47-4253-4c77-9c0d-c96a48c6a1c5"
      },
      "outputs": [
        {
          "data": {
            "text/plain": [
              "Index(['BHK', 'Rent', 'Size', 'Area Type', 'City', 'Furnishing Status',\n",
              "       'Tenant Preferred', 'Bathroom', 'Point of Contact'],\n",
              "      dtype='object')"
            ]
          },
          "execution_count": 32,
          "metadata": {},
          "output_type": "execute_result"
        }
      ],
      "source": [
        "#Mengecek kolom setelah drop tiga kolom\n",
        "df.columns"
      ]
    },
    {
      "cell_type": "markdown",
      "metadata": {
        "id": "3t9nO2aSPU0t"
      },
      "source": [
        "## Menghapus baris duplikat"
      ]
    },
    {
      "cell_type": "code",
      "execution_count": null,
      "metadata": {
        "id": "fdWag7Cp-64c"
      },
      "outputs": [],
      "source": [
        "#Menghapus baris duplikat\n",
        "df = df[~df.duplicated()]"
      ]
    },
    {
      "cell_type": "code",
      "execution_count": null,
      "metadata": {
        "colab": {
          "base_uri": "https://localhost:8080/"
        },
        "id": "ruYYLTmw_Ae3",
        "outputId": "a3ea2a85-845a-43bd-ba4a-84f866a9be29"
      },
      "outputs": [
        {
          "data": {
            "text/plain": [
              "(4486, 9)"
            ]
          },
          "execution_count": 34,
          "metadata": {},
          "output_type": "execute_result"
        }
      ],
      "source": [
        "#Mengecek jumlah baris dan kolom setelah menghapus baris duplikat\n",
        "df.shape"
      ]
    },
    {
      "cell_type": "markdown",
      "metadata": {
        "id": "YZchGRKGPYRG"
      },
      "source": [
        "## Mengecek missing values"
      ]
    },
    {
      "cell_type": "code",
      "execution_count": null,
      "metadata": {
        "colab": {
          "base_uri": "https://localhost:8080/"
        },
        "id": "4ZNo-HHI_usb",
        "outputId": "21579f8e-76f0-4b61-fe11-12b621767098"
      },
      "outputs": [
        {
          "data": {
            "text/plain": [
              "BHK                  0\n",
              "Rent                 0\n",
              "Size                 0\n",
              "Area Type            0\n",
              "City                 0\n",
              "Furnishing Status    0\n",
              "Tenant Preferred     0\n",
              "Bathroom             0\n",
              "Point of Contact     0\n",
              "dtype: int64"
            ]
          },
          "execution_count": 35,
          "metadata": {},
          "output_type": "execute_result"
        }
      ],
      "source": [
        "#Mengecek missing values\n",
        "df.isnull().sum()"
      ]
    },
    {
      "cell_type": "markdown",
      "metadata": {
        "id": "tv72xtA5AD1U"
      },
      "source": [
        "Tidak ditemukan missing values pada data"
      ]
    },
    {
      "cell_type": "markdown",
      "metadata": {
        "id": "FWzLE1BoZw9L"
      },
      "source": [
        "## Outliers handling"
      ]
    },
    {
      "cell_type": "code",
      "execution_count": null,
      "metadata": {
        "colab": {
          "base_uri": "https://localhost:8080/",
          "height": 296
        },
        "id": "KIgiEoC4AHzz",
        "outputId": "67f58f06-1c0b-4980-b9c0-5dd2485b8396"
      },
      "outputs": [
        {
          "data": {
            "text/plain": [
              "<matplotlib.axes._subplots.AxesSubplot at 0x7f5c128ad750>"
            ]
          },
          "execution_count": 37,
          "metadata": {},
          "output_type": "execute_result"
        },
        {
          "data": {
            "image/png": "[encoded data removed]",
            "text/plain": [
              "<Figure size 432x288 with 1 Axes>"
            ]
          },
          "metadata": {},
          "output_type": "display_data"
        }
      ],
      "source": [
        "#Mengecek Outliers pada kolom BHK\n",
        "sns.boxplot(x=\"BHK\",data=df)"
      ]
    },
    {
      "cell_type": "code",
      "execution_count": null,
      "metadata": {
        "colab": {
          "base_uri": "https://localhost:8080/",
          "height": 296
        },
        "id": "zYvFiKpBDNZI",
        "outputId": "188aee58-6e20-4808-fff2-d57e28b89245"
      },
      "outputs": [
        {
          "data": {
            "text/plain": [
              "<matplotlib.axes._subplots.AxesSubplot at 0x7f5c12885d10>"
            ]
          },
          "execution_count": 38,
          "metadata": {},
          "output_type": "execute_result"
        },
        {
          "data": {
            "image/png": "[encoded data removed]",
            "text/plain": [
              "<Figure size 432x288 with 1 Axes>"
            ]
          },
          "metadata": {},
          "output_type": "display_data"
        }
      ],
      "source": [
        "#Mengecek Outliers pada kolom Rent\n",
        "sns.boxplot(x=\"Rent\",data=df)"
      ]
    },
    {
      "cell_type": "code",
      "execution_count": null,
      "metadata": {
        "colab": {
          "base_uri": "https://localhost:8080/",
          "height": 296
        },
        "id": "mZS-tjeECwNO",
        "outputId": "141dafa8-be95-4de7-87c6-f04ebb6b6bc5"
      },
      "outputs": [
        {
          "data": {
            "text/plain": [
              "<matplotlib.axes._subplots.AxesSubplot at 0x7f5c127f9f50>"
            ]
          },
          "execution_count": 39,
          "metadata": {},
          "output_type": "execute_result"
        },
        {
          "data": {
            "image/png": "[encoded data removed]",
            "text/plain": [
              "<Figure size 432x288 with 1 Axes>"
            ]
          },
          "metadata": {},
          "output_type": "display_data"
        }
      ],
      "source": [
        "#Mengecek Outliers pada kolom Size\n",
        "sns.boxplot(x=\"Size\",data=df)"
      ]
    },
    {
      "cell_type": "code",
      "execution_count": null,
      "metadata": {
        "colab": {
          "base_uri": "https://localhost:8080/",
          "height": 296
        },
        "id": "w2agQ8X9DUi5",
        "outputId": "f41a621d-cf59-4a3a-f89c-d100cde59cf4"
      },
      "outputs": [
        {
          "data": {
            "text/plain": [
              "<matplotlib.axes._subplots.AxesSubplot at 0x7f5c12771c90>"
            ]
          },
          "execution_count": 40,
          "metadata": {},
          "output_type": "execute_result"
        },
        {
          "data": {
            "image/png": "[encoded data removed]",
            "text/plain": [
              "<Figure size 432x288 with 1 Axes>"
            ]
          },
          "metadata": {},
          "output_type": "display_data"
        }
      ],
      "source": [
        "#Mengecek Outliers pada kolom Bathroom\n",
        "sns.boxplot(x=\"Bathroom\", data=df)"
      ]
    },
    {
      "cell_type": "code",
      "execution_count": null,
      "metadata": {
        "id": "VT3jZjk2rpIv"
      },
      "outputs": [],
      "source": [
        "#Ouliers Handling Kolom BHK\n",
        "Q1=df['BHK'].quantile(0.25)\n",
        "Q3=df['BHK'].quantile(0.75)\n",
        "IQR=Q3-Q1\n",
        "Lower_Bound = Q1 - (1.5 * IQR)\n",
        "Upper_Bound = Q3 + (1.5 * IQR)\n",
        "\n",
        "df.loc[(df['BHK']>Upper_Bound)] = df['BHK'].median()"
      ]
    },
    {
      "cell_type": "code",
      "execution_count": null,
      "metadata": {
        "colab": {
          "base_uri": "https://localhost:8080/",
          "height": 296
        },
        "id": "6_hX8IFisgyf",
        "outputId": "11cd124d-ef5a-46fd-ffad-b17cbe2fb686"
      },
      "outputs": [
        {
          "data": {
            "text/plain": [
              "<matplotlib.axes._subplots.AxesSubplot at 0x7f5c126d5c10>"
            ]
          },
          "execution_count": 42,
          "metadata": {},
          "output_type": "execute_result"
        },
        {
          "data": {
            "image/png": "[encoded data removed]",
            "text/plain": [
              "<Figure size 432x288 with 1 Axes>"
            ]
          },
          "metadata": {},
          "output_type": "display_data"
        }
      ],
      "source": [
        "sns.boxplot(x=\"BHK\",data=df)"
      ]
    },
    {
      "cell_type": "code",
      "execution_count": null,
      "metadata": {
        "id": "RP3ruUO-smEQ"
      },
      "outputs": [],
      "source": [
        "#Ouliers Handling Kolom Rent\n",
        "Q1_Rent=df['Rent'].quantile(0.25)\n",
        "Q3_Rent=df['Rent'].quantile(0.75)\n",
        "IQR_Rent=Q3_Rent-Q1_Rent\n",
        "LowerBoundRent = Q1_Rent - 1.5 * IQR_Rent\n",
        "UpperBoundRent = Q3_Rent + 1.5 * IQR_Rent\n",
        "\n",
        "df.loc[(df['Rent']>UpperBoundRent)] = UpperBoundRent"
      ]
    },
    {
      "cell_type": "code",
      "execution_count": null,
      "metadata": {
        "colab": {
          "base_uri": "https://localhost:8080/",
          "height": 296
        },
        "id": "ExqgLUdgtFNq",
        "outputId": "bda830e5-9306-476b-950d-632297dcc20e"
      },
      "outputs": [
        {
          "data": {
            "text/plain": [
              "<matplotlib.axes._subplots.AxesSubplot at 0x7f5c126bc810>"
            ]
          },
          "execution_count": 44,
          "metadata": {},
          "output_type": "execute_result"
        },
        {
          "data": {
            "image/png": "[encoded data removed]",
            "text/plain": [
              "<Figure size 432x288 with 1 Axes>"
            ]
          },
          "metadata": {},
          "output_type": "display_data"
        }
      ],
      "source": [
        "sns.boxplot(x=\"Rent\",data=df)"
      ]
    },
    {
      "cell_type": "code",
      "execution_count": null,
      "metadata": {
        "id": "-B6PzKo4tSUQ"
      },
      "outputs": [],
      "source": [
        "#Ouliers Handling Kolom Size\n",
        "Q1_Size=df['Size'].quantile(0.25)\n",
        "Q3_Size=df['Size'].quantile(0.75)\n",
        "IQR_Size=Q3_Size-Q1_Size\n",
        "LowerBoundSize = Q1_Size - 1.5 * IQR_Size\n",
        "UpperBoundSize = Q3_Size + 1.5 * IQR_Size\n",
        "\n",
        "df.loc[(df['Size']>UpperBoundSize)] = UpperBoundSize"
      ]
    },
    {
      "cell_type": "code",
      "execution_count": null,
      "metadata": {
        "colab": {
          "base_uri": "https://localhost:8080/",
          "height": 296
        },
        "id": "y2FkiU4stajE",
        "outputId": "77b460c1-3ad0-4904-c35d-ab7f2fa669bb"
      },
      "outputs": [
        {
          "data": {
            "text/plain": [
              "<matplotlib.axes._subplots.AxesSubplot at 0x7f5c12642c50>"
            ]
          },
          "execution_count": 46,
          "metadata": {},
          "output_type": "execute_result"
        },
        {
          "data": {
            "image/png": "[encoded data removed]",
            "text/plain": [
              "<Figure size 432x288 with 1 Axes>"
            ]
          },
          "metadata": {},
          "output_type": "display_data"
        }
      ],
      "source": [
        "sns.boxplot(x=\"Size\",data=df)"
      ]
    },
    {
      "cell_type": "code",
      "execution_count": null,
      "metadata": {
        "id": "ouUPdwVOuEjm"
      },
      "outputs": [],
      "source": [
        "#Ouliers Handling Kolom Bathroom\n",
        "Q1_Bathroom=df['Bathroom'].quantile(0.25)\n",
        "Q3_Bathroom=df['Bathroom'].quantile(0.75)\n",
        "IQR_Bathroom=Q3_Bathroom-Q1_Bathroom\n",
        "LowerBoundBathroom = Q1_Bathroom - 1.5 * IQR_Bathroom\n",
        "UpperBoundBathroom = Q3_Bathroom + 1.5 * IQR_Bathroom\n",
        "\n",
        "df.loc[(df['Bathroom']>UpperBoundBathroom)] = df['Bathroom'].median()"
      ]
    },
    {
      "cell_type": "code",
      "execution_count": null,
      "metadata": {
        "colab": {
          "base_uri": "https://localhost:8080/",
          "height": 296
        },
        "id": "9kpUO-tduR-e",
        "outputId": "104b7259-8cf6-4646-b76a-436e9e3e65ec"
      },
      "outputs": [
        {
          "data": {
            "text/plain": [
              "<matplotlib.axes._subplots.AxesSubplot at 0x7f5c1259f590>"
            ]
          },
          "execution_count": 48,
          "metadata": {},
          "output_type": "execute_result"
        },
        {
          "data": {
            "image/png": "[encoded data removed]",
            "text/plain": [
              "<Figure size 432x288 with 1 Axes>"
            ]
          },
          "metadata": {},
          "output_type": "display_data"
        }
      ],
      "source": [
        "sns.boxplot(x=\"Bathroom\",data=df)"
      ]
    },
    {
      "cell_type": "code",
      "execution_count": null,
      "metadata": {
        "colab": {
          "base_uri": "https://localhost:8080/"
        },
        "id": "7cLIZSOy9ZZc",
        "outputId": "d46b41ea-ea6f-4966-fee5-bcad179ad00d"
      },
      "outputs": [
        {
          "data": {
            "text/plain": [
              "BHK                  float64\n",
              "Rent                 float64\n",
              "Size                 float64\n",
              "Area Type             object\n",
              "City                  object\n",
              "Furnishing Status     object\n",
              "Tenant Preferred      object\n",
              "Bathroom             float64\n",
              "Point of Contact      object\n",
              "dtype: object"
            ]
          },
          "execution_count": 49,
          "metadata": {},
          "output_type": "execute_result"
        }
      ],
      "source": [
        "#Melihat tipe data setelah penanganan outliers\n",
        "df.dtypes"
      ]
    },
    {
      "cell_type": "code",
      "execution_count": null,
      "metadata": {
        "id": "UHBASulT-2VO"
      },
      "outputs": [],
      "source": [
        "#Mengubah tipe data float menjadi integer\n",
        "df[['BHK','Rent','Size','Bathroom']] = df[['BHK','Rent','Size','Bathroom']].astype(int)"
      ]
    },
    {
      "cell_type": "code",
      "execution_count": null,
      "metadata": {
        "colab": {
          "base_uri": "https://localhost:8080/"
        },
        "id": "CHKGDSprA3HM",
        "outputId": "d8a56230-695c-4acf-a211-4d14e4e36e02"
      },
      "outputs": [
        {
          "data": {
            "text/plain": [
              "BHK                   int64\n",
              "Rent                  int64\n",
              "Size                  int64\n",
              "Area Type            object\n",
              "City                 object\n",
              "Furnishing Status    object\n",
              "Tenant Preferred     object\n",
              "Bathroom              int64\n",
              "Point of Contact     object\n",
              "dtype: object"
            ]
          },
          "execution_count": 51,
          "metadata": {},
          "output_type": "execute_result"
        }
      ],
      "source": [
        "#Melihat tipe data setelah perubahan\n",
        "df.dtypes"
      ]
    },
    {
      "cell_type": "markdown",
      "metadata": {
        "id": "VL2Z9dOLPwQ2"
      },
      "source": [
        "# Encoding"
      ]
    },
    {
      "cell_type": "code",
      "execution_count": null,
      "metadata": {
        "id": "ldBgV5osfmhZ"
      },
      "outputs": [],
      "source": [
        "#Encoding Categorical Data\n",
        "df2 = df.join(pd.get_dummies(df[['Area Type','City','Furnishing Status','Tenant Preferred','Point of Contact']], drop_first=True))\n",
        "df2.drop(columns = ['Area Type','City','Furnishing Status','Tenant Preferred','Point of Contact'], inplace = True)"
      ]
    },
    {
      "cell_type": "code",
      "execution_count": null,
      "metadata": {
        "colab": {
          "base_uri": "https://localhost:8080/"
        },
        "id": "DHWMIcjOf4LY",
        "outputId": "6e468afd-7664-43eb-916b-6f87c7629aed"
      },
      "outputs": [
        {
          "data": {
            "text/plain": [
              "BHK                                  int64\n",
              "Rent                                 int64\n",
              "Size                                 int64\n",
              "Bathroom                             int64\n",
              "Area Type_Built Area                 uint8\n",
              "Area Type_Carpet Area                uint8\n",
              "Area Type_Super Area                 uint8\n",
              "City_Bangalore                       uint8\n",
              "City_Chennai                         uint8\n",
              "City_Delhi                           uint8\n",
              "City_Hyderabad                       uint8\n",
              "City_Kolkata                         uint8\n",
              "City_Mumbai                          uint8\n",
              "Furnishing Status_Furnished          uint8\n",
              "Furnishing Status_Semi-Furnished     uint8\n",
              "Furnishing Status_Unfurnished        uint8\n",
              "Tenant Preferred_Bachelors           uint8\n",
              "Tenant Preferred_Bachelors/Family    uint8\n",
              "Tenant Preferred_Family              uint8\n",
              "Point of Contact_Contact Agent       uint8\n",
              "Point of Contact_Contact Builder     uint8\n",
              "Point of Contact_Contact Owner       uint8\n",
              "dtype: object"
            ]
          },
          "execution_count": 53,
          "metadata": {},
          "output_type": "execute_result"
        }
      ],
      "source": [
        "#Tipe data setelah proses encoding\n",
        "df2.dtypes"
      ]
    },
    {
      "cell_type": "code",
      "execution_count": null,
      "metadata": {
        "colab": {
          "base_uri": "https://localhost:8080/",
          "height": 334
        },
        "id": "906Jqro4D5UG",
        "outputId": "a7bf1718-78bb-4431-fa87-2a577e39ab28"
      },
      "outputs": [
        {
          "data": {
            "text/html": [
              "\n",
              "  <div id=\"df-6057b8dd-33e9-40ef-bc3b-9f8c1a604155\">\n",
              "    <div class=\"colab-df-container\">\n",
              "      <div>\n",
              "<style scoped>\n",
              "    .dataframe tbody tr th:only-of-type {\n",
              "        vertical-align: middle;\n",
              "    }\n",
              "\n",
              "    .dataframe tbody tr th {\n",
              "        vertical-align: top;\n",
              "    }\n",
              "\n",
              "    .dataframe thead th {\n",
              "        text-align: right;\n",
              "    }\n",
              "</style>\n",
              "<table border=\"1\" class=\"dataframe\">\n",
              "  <thead>\n",
              "    <tr style=\"text-align: right;\">\n",
              "      <th></th>\n",
              "      <th>BHK</th>\n",
              "      <th>Rent</th>\n",
              "      <th>Size</th>\n",
              "      <th>Bathroom</th>\n",
              "      <th>Area Type_Built Area</th>\n",
              "      <th>Area Type_Carpet Area</th>\n",
              "      <th>Area Type_Super Area</th>\n",
              "      <th>City_Bangalore</th>\n",
              "      <th>City_Chennai</th>\n",
              "      <th>City_Delhi</th>\n",
              "      <th>...</th>\n",
              "      <th>City_Mumbai</th>\n",
              "      <th>Furnishing Status_Furnished</th>\n",
              "      <th>Furnishing Status_Semi-Furnished</th>\n",
              "      <th>Furnishing Status_Unfurnished</th>\n",
              "      <th>Tenant Preferred_Bachelors</th>\n",
              "      <th>Tenant Preferred_Bachelors/Family</th>\n",
              "      <th>Tenant Preferred_Family</th>\n",
              "      <th>Point of Contact_Contact Agent</th>\n",
              "      <th>Point of Contact_Contact Builder</th>\n",
              "      <th>Point of Contact_Contact Owner</th>\n",
              "    </tr>\n",
              "  </thead>\n",
              "  <tbody>\n",
              "    <tr>\n",
              "      <th>0</th>\n",
              "      <td>2</td>\n",
              "      <td>10000</td>\n",
              "      <td>1100</td>\n",
              "      <td>2</td>\n",
              "      <td>0</td>\n",
              "      <td>0</td>\n",
              "      <td>1</td>\n",
              "      <td>0</td>\n",
              "      <td>0</td>\n",
              "      <td>0</td>\n",
              "      <td>...</td>\n",
              "      <td>0</td>\n",
              "      <td>0</td>\n",
              "      <td>0</td>\n",
              "      <td>1</td>\n",
              "      <td>0</td>\n",
              "      <td>1</td>\n",
              "      <td>0</td>\n",
              "      <td>0</td>\n",
              "      <td>0</td>\n",
              "      <td>1</td>\n",
              "    </tr>\n",
              "    <tr>\n",
              "      <th>1</th>\n",
              "      <td>2</td>\n",
              "      <td>20000</td>\n",
              "      <td>800</td>\n",
              "      <td>1</td>\n",
              "      <td>0</td>\n",
              "      <td>0</td>\n",
              "      <td>1</td>\n",
              "      <td>0</td>\n",
              "      <td>0</td>\n",
              "      <td>0</td>\n",
              "      <td>...</td>\n",
              "      <td>0</td>\n",
              "      <td>0</td>\n",
              "      <td>1</td>\n",
              "      <td>0</td>\n",
              "      <td>0</td>\n",
              "      <td>1</td>\n",
              "      <td>0</td>\n",
              "      <td>0</td>\n",
              "      <td>0</td>\n",
              "      <td>1</td>\n",
              "    </tr>\n",
              "    <tr>\n",
              "      <th>2</th>\n",
              "      <td>2</td>\n",
              "      <td>17000</td>\n",
              "      <td>1000</td>\n",
              "      <td>1</td>\n",
              "      <td>0</td>\n",
              "      <td>0</td>\n",
              "      <td>1</td>\n",
              "      <td>0</td>\n",
              "      <td>0</td>\n",
              "      <td>0</td>\n",
              "      <td>...</td>\n",
              "      <td>0</td>\n",
              "      <td>0</td>\n",
              "      <td>1</td>\n",
              "      <td>0</td>\n",
              "      <td>0</td>\n",
              "      <td>1</td>\n",
              "      <td>0</td>\n",
              "      <td>0</td>\n",
              "      <td>0</td>\n",
              "      <td>1</td>\n",
              "    </tr>\n",
              "    <tr>\n",
              "      <th>3</th>\n",
              "      <td>2</td>\n",
              "      <td>10000</td>\n",
              "      <td>800</td>\n",
              "      <td>1</td>\n",
              "      <td>0</td>\n",
              "      <td>0</td>\n",
              "      <td>1</td>\n",
              "      <td>0</td>\n",
              "      <td>0</td>\n",
              "      <td>0</td>\n",
              "      <td>...</td>\n",
              "      <td>0</td>\n",
              "      <td>0</td>\n",
              "      <td>0</td>\n",
              "      <td>1</td>\n",
              "      <td>0</td>\n",
              "      <td>1</td>\n",
              "      <td>0</td>\n",
              "      <td>0</td>\n",
              "      <td>0</td>\n",
              "      <td>1</td>\n",
              "    </tr>\n",
              "    <tr>\n",
              "      <th>4</th>\n",
              "      <td>2</td>\n",
              "      <td>7500</td>\n",
              "      <td>850</td>\n",
              "      <td>1</td>\n",
              "      <td>0</td>\n",
              "      <td>1</td>\n",
              "      <td>0</td>\n",
              "      <td>0</td>\n",
              "      <td>0</td>\n",
              "      <td>0</td>\n",
              "      <td>...</td>\n",
              "      <td>0</td>\n",
              "      <td>0</td>\n",
              "      <td>0</td>\n",
              "      <td>1</td>\n",
              "      <td>1</td>\n",
              "      <td>0</td>\n",
              "      <td>0</td>\n",
              "      <td>0</td>\n",
              "      <td>0</td>\n",
              "      <td>1</td>\n",
              "    </tr>\n",
              "  </tbody>\n",
              "</table>\n",
              "<p>5 rows × 22 columns</p>\n",
              "</div>\n",
              "      <button class=\"colab-df-convert\" onclick=\"convertToInteractive('df-6057b8dd-33e9-40ef-bc3b-9f8c1a604155')\"\n",
              "              title=\"Convert this dataframe to an interactive table.\"\n",
              "              style=\"display:none;\">\n",
              "        \n",
              "  <svg xmlns=\"http://www.w3.org/2000/svg\" height=\"24px\"viewBox=\"0 0 24 24\"\n",
              "       width=\"24px\">\n",
              "    <path d=\"M0 0h24v24H0V0z\" fill=\"none\"/>\n",
              "    <path d=\"M18.56 5.44l.94 2.06.94-2.06 2.06-.94-2.06-.94-.94-2.06-.94 2.06-2.06.94zm-11 1L8.5 8.5l.94-2.06 2.06-.94-2.06-.94L8.5 2.5l-.94 2.06-2.06.94zm10 10l.94 2.06.94-2.06 2.06-.94-2.06-.94-.94-2.06-.94 2.06-2.06.94z\"/><path d=\"M17.41 7.96l-1.37-1.37c-.4-.4-.92-.59-1.43-.59-.52 0-1.04.2-1.43.59L10.3 9.45l-7.72 7.72c-.78.78-.78 2.05 0 2.83L4 21.41c.39.39.9.59 1.41.59.51 0 1.02-.2 1.41-.59l7.78-7.78 2.81-2.81c.8-.78.8-2.07 0-2.86zM5.41 20L4 18.59l7.72-7.72 1.47 1.35L5.41 20z\"/>\n",
              "  </svg>\n",
              "      </button>\n",
              "      \n",
              "  <style>\n",
              "    .colab-df-container {\n",
              "      display:flex;\n",
              "      flex-wrap:wrap;\n",
              "      gap: 12px;\n",
              "    }\n",
              "\n",
              "    .colab-df-convert {\n",
              "      background-color: #E8F0FE;\n",
              "      border: none;\n",
              "      border-radius: 50%;\n",
              "      cursor: pointer;\n",
              "      display: none;\n",
              "      fill: #1967D2;\n",
              "      height: 32px;\n",
              "      padding: 0 0 0 0;\n",
              "      width: 32px;\n",
              "    }\n",
              "\n",
              "    .colab-df-convert:hover {\n",
              "      background-color: #E2EBFA;\n",
              "      box-shadow: 0px 1px 2px rgba(60, 64, 67, 0.3), 0px 1px 3px 1px rgba(60, 64, 67, 0.15);\n",
              "      fill: #174EA6;\n",
              "    }\n",
              "\n",
              "    [theme=dark] .colab-df-convert {\n",
              "      background-color: #3B4455;\n",
              "      fill: #D2E3FC;\n",
              "    }\n",
              "\n",
              "    [theme=dark] .colab-df-convert:hover {\n",
              "      background-color: #434B5C;\n",
              "      box-shadow: 0px 1px 3px 1px rgba(0, 0, 0, 0.15);\n",
              "      filter: drop-shadow(0px 1px 2px rgba(0, 0, 0, 0.3));\n",
              "      fill: #FFFFFF;\n",
              "    }\n",
              "  </style>\n",
              "\n",
              "      <script>\n",
              "        const buttonEl =\n",
              "          document.querySelector('#df-6057b8dd-33e9-40ef-bc3b-9f8c1a604155 button.colab-df-convert');\n",
              "        buttonEl.style.display =\n",
              "          google.colab.kernel.accessAllowed ? 'block' : 'none';\n",
              "\n",
              "        async function convertToInteractive(key) {\n",
              "          const element = document.querySelector('#df-6057b8dd-33e9-40ef-bc3b-9f8c1a604155');\n",
              "          const dataTable =\n",
              "            await google.colab.kernel.invokeFunction('convertToInteractive',\n",
              "                                                     [key], {});\n",
              "          if (!dataTable) return;\n",
              "\n",
              "          const docLinkHtml = 'Like what you see? Visit the ' +\n",
              "            '<a target=\"_blank\" href=https://colab.research.google.com/notebooks/data_table.ipynb>data table notebook</a>'\n",
              "            + ' to learn more about interactive tables.';\n",
              "          element.innerHTML = '';\n",
              "          dataTable['output_type'] = 'display_data';\n",
              "          await google.colab.output.renderOutput(dataTable, element);\n",
              "          const docLink = document.createElement('div');\n",
              "          docLink.innerHTML = docLinkHtml;\n",
              "          element.appendChild(docLink);\n",
              "        }\n",
              "      </script>\n",
              "    </div>\n",
              "  </div>\n",
              "  "
            ],
            "text/plain": [
              "   BHK   Rent  Size  Bathroom  Area Type_Built Area  Area Type_Carpet Area  \\\n",
              "0    2  10000  1100         2                     0                      0   \n",
              "1    2  20000   800         1                     0                      0   \n",
              "2    2  17000  1000         1                     0                      0   \n",
              "3    2  10000   800         1                     0                      0   \n",
              "4    2   7500   850         1                     0                      1   \n",
              "\n",
              "   Area Type_Super Area  City_Bangalore  City_Chennai  City_Delhi  ...  \\\n",
              "0                     1               0             0           0  ...   \n",
              "1                     1               0             0           0  ...   \n",
              "2                     1               0             0           0  ...   \n",
              "3                     1               0             0           0  ...   \n",
              "4                     0               0             0           0  ...   \n",
              "\n",
              "   City_Mumbai  Furnishing Status_Furnished  Furnishing Status_Semi-Furnished  \\\n",
              "0            0                            0                                 0   \n",
              "1            0                            0                                 1   \n",
              "2            0                            0                                 1   \n",
              "3            0                            0                                 0   \n",
              "4            0                            0                                 0   \n",
              "\n",
              "   Furnishing Status_Unfurnished  Tenant Preferred_Bachelors  \\\n",
              "0                              1                           0   \n",
              "1                              0                           0   \n",
              "2                              0                           0   \n",
              "3                              1                           0   \n",
              "4                              1                           1   \n",
              "\n",
              "   Tenant Preferred_Bachelors/Family  Tenant Preferred_Family  \\\n",
              "0                                  1                        0   \n",
              "1                                  1                        0   \n",
              "2                                  1                        0   \n",
              "3                                  1                        0   \n",
              "4                                  0                        0   \n",
              "\n",
              "   Point of Contact_Contact Agent  Point of Contact_Contact Builder  \\\n",
              "0                               0                                 0   \n",
              "1                               0                                 0   \n",
              "2                               0                                 0   \n",
              "3                               0                                 0   \n",
              "4                               0                                 0   \n",
              "\n",
              "   Point of Contact_Contact Owner  \n",
              "0                               1  \n",
              "1                               1  \n",
              "2                               1  \n",
              "3                               1  \n",
              "4                               1  \n",
              "\n",
              "[5 rows x 22 columns]"
            ]
          },
          "execution_count": 54,
          "metadata": {},
          "output_type": "execute_result"
        }
      ],
      "source": [
        "df2.head()"
      ]
    },
    {
      "cell_type": "code",
      "execution_count": null,
      "metadata": {
        "colab": {
          "base_uri": "https://localhost:8080/",
          "height": 886
        },
        "id": "U4v5vdIbg79c",
        "outputId": "3c13eed7-7262-4fd5-b5ad-f140ce63c461"
      },
      "outputs": [
        {
          "data": {
            "image/png": "[encoded data removed]",
            "text/plain": [
              "<Figure size 1080x1080 with 2 Axes>"
            ]
          },
          "metadata": {},
          "output_type": "display_data"
        }
      ],
      "source": [
        "#Melihat korelasi antar kolom pada data setelah proses encoding\n",
        "plt.figure(figsize=(15,15))\n",
        "sns.heatmap(df2.corr(),annot=True,fmt='.2f')\n",
        "plt.show()"
      ]
    },
    {
      "cell_type": "markdown",
      "metadata": {
        "id": "VnbCgMoskLdI"
      },
      "source": [
        "# Modelling"
      ]
    },
    {
      "cell_type": "code",
      "execution_count": null,
      "metadata": {
        "id": "gFTrvXXMkK0c"
      },
      "outputs": [],
      "source": [
        "#Memisahkan training dan testing data\n",
        "X=df2.drop('Rent', axis=1)\n",
        "y=df2['Rent']\n",
        "\n",
        "X_train,X_test,y_train,y_test=train_test_split(X,y,test_size=0.2,random_state=42)\n",
        "ss=StandardScaler()\n",
        "X_train=ss.fit_transform(X_train)\n",
        "X_test=ss.transform(X_test)"
      ]
    },
    {
      "cell_type": "code",
      "execution_count": null,
      "metadata": {
        "colab": {
          "base_uri": "https://localhost:8080/"
        },
        "id": "ZIrPUwg6sAT5",
        "outputId": "143d6a74-805c-436a-8062-bf2550fec8fd"
      },
      "outputs": [
        {
          "name": "stdout",
          "output_type": "stream",
          "text": [
            "Linear Regression Training Accuracy: 0.742174452791749\n",
            "Linear Regression Testing Accuracy: 0.7273555554283502\n"
          ]
        }
      ],
      "source": [
        "#Linear Regression Model\n",
        "linearmodel=LinearRegression()\n",
        "linearmodel.fit(X_train,y_train)\n",
        "print(\"Linear Regression Training Accuracy:\", linearmodel.score(X_train,y_train))\n",
        "print(\"Linear Regression Testing Accuracy:\", linearmodel.score(X_test,y_test))"
      ]
    },
    {
      "cell_type": "code",
      "execution_count": null,
      "metadata": {
        "colab": {
          "base_uri": "https://localhost:8080/"
        },
        "id": "YGo4ALuysYS5",
        "outputId": "39ce3da4-2aa5-4254-e2ab-0b2586413059"
      },
      "outputs": [
        {
          "name": "stdout",
          "output_type": "stream",
          "text": [
            "Random Forest Training Accuracy: 0.9421467289553468\n",
            "Random Forest Testing Accuracy: 0.7475856938974149\n"
          ]
        }
      ],
      "source": [
        "#Random Forest Regression Model\n",
        "random_forest_model=RandomForestRegressor()\n",
        "random_forest_model.fit(X_train,y_train)\n",
        "print(\"Random Forest Training Accuracy:\", random_forest_model.score(X_train,y_train))\n",
        "print(\"Random Forest Testing Accuracy:\", random_forest_model.score(X_test,y_test))"
      ]
    },
    {
      "cell_type": "code",
      "execution_count": null,
      "metadata": {
        "colab": {
          "base_uri": "https://localhost:8080/"
        },
        "id": "h9Ynq3ensspp",
        "outputId": "bd7ab97c-c70a-4c58-c773-b17098beae94"
      },
      "outputs": [
        {
          "name": "stdout",
          "output_type": "stream",
          "text": [
            "Decision Tree Training Accuracy: 0.9687695419061364\n",
            "Decision Tree Testing Accuracy: 0.6048607460162556\n"
          ]
        }
      ],
      "source": [
        "#Decision Tree Model\n",
        "tree_model=DecisionTreeRegressor()\n",
        "tree_model.fit(X_train,y_train)\n",
        "print(\"Decision Tree Training Accuracy:\", tree_model.score(X_train,y_train))\n",
        "print(\"Decision Tree Testing Accuracy:\", tree_model.score(X_test,y_test))"
      ]
    },
    {
      "cell_type": "code",
      "execution_count": null,
      "metadata": {
        "colab": {
          "base_uri": "https://localhost:8080/"
        },
        "id": "ieH6pySQs5Zc",
        "outputId": "d3bf9e5a-9f7d-4ecc-ee7d-d87d2b09357b"
      },
      "outputs": [
        {
          "name": "stdout",
          "output_type": "stream",
          "text": [
            "LightGBM Training Accuracy: 0.8559861785623437\n",
            "LightGBM Testing Accuracy: 0.7755406041453974\n"
          ]
        }
      ],
      "source": [
        "#LightGBM Model\n",
        "xg_model = LGBMRegressor()\n",
        "xg_model.fit(X_train, y_train)\n",
        "print(\"LightGBM Training Accuracy:\", xg_model.score(X_train,y_train))\n",
        "print(\"LightGBM Testing Accuracy:\", xg_model.score(X_test,y_test))"
      ]
    },
    {
      "cell_type": "code",
      "execution_count": null,
      "metadata": {
        "colab": {
          "base_uri": "https://localhost:8080/"
        },
        "id": "2LsQiA73UWhF",
        "outputId": "f10cccc5-478d-44fc-d533-88f33227c9b7"
      },
      "outputs": [
        {
          "name": "stdout",
          "output_type": "stream",
          "text": [
            "Gradient Boost Training Accuracy: 0.8153069053923592\n",
            "Gradient Boost Testing Accuracy: 0.7676508149599277\n"
          ]
        }
      ],
      "source": [
        "#Gradient Boost Model\n",
        "gb_model=GradientBoostingRegressor()\n",
        "gb_model.fit(X_train,y_train)\n",
        "print(\"Gradient Boost Training Accuracy:\", gb_model.score(X_train,y_train))\n",
        "print(\"Gradient Boost Testing Accuracy:\", gb_model.score(X_test,y_test))"
      ]
    },
    {
      "cell_type": "markdown",
      "metadata": {
        "id": "LlZRkKcn2a4t"
      },
      "source": [
        "## Model Evaluation"
      ]
    },
    {
      "cell_type": "code",
      "execution_count": null,
      "metadata": {
        "id": "F8PRkD3Qlun-"
      },
      "outputs": [],
      "source": [
        "#Membuat fungsi evaluate untuk evaluasi model berdasarkan MAE, RMSE, dan R2 Score\n",
        "def evaluate(model):\n",
        "    model.fit(X_train,y_train)\n",
        "    pred = model.predict(X_test)\n",
        "\n",
        "    print('MAE:', mean_absolute_error(y_test, pred))\n",
        "    print('RMSE:', np.sqrt(mean_squared_error(y_test, pred)))\n",
        "    print('R2 Score:', r2_score(y_test, pred))"
      ]
    },
    {
      "cell_type": "code",
      "execution_count": null,
      "metadata": {
        "colab": {
          "base_uri": "https://localhost:8080/"
        },
        "id": "syG7wWDyn8Cb",
        "outputId": "39339dd8-30ae-4c1d-e730-714bd278e9d4"
      },
      "outputs": [
        {
          "name": "stdout",
          "output_type": "stream",
          "text": [
            "MAE: 5348.235710270583\n",
            "RMSE: 7776.843283250161\n",
            "R2 Score: 0.7273555554283502\n"
          ]
        }
      ],
      "source": [
        "#Evaluasi Linear Regression\n",
        "evaluate(LinearRegression())"
      ]
    },
    {
      "cell_type": "code",
      "execution_count": null,
      "metadata": {
        "colab": {
          "base_uri": "https://localhost:8080/"
        },
        "id": "iSU95UzaoWod",
        "outputId": "48a3a2d8-a764-4aa9-82c6-fd3d3a484329"
      },
      "outputs": [
        {
          "name": "stdout",
          "output_type": "stream",
          "text": [
            "MAE: 4797.902090693383\n",
            "RMSE: 7428.73275399748\n",
            "R2 Score: 0.751217728713236\n"
          ]
        }
      ],
      "source": [
        "#Evaluasi Random Forest\n",
        "evaluate(RandomForestRegressor())"
      ]
    },
    {
      "cell_type": "code",
      "execution_count": null,
      "metadata": {
        "colab": {
          "base_uri": "https://localhost:8080/"
        },
        "id": "u3Loj3RV0bcw",
        "outputId": "e6d9be6d-4c53-438f-ae3d-b200ebc773b5"
      },
      "outputs": [
        {
          "name": "stdout",
          "output_type": "stream",
          "text": [
            "MAE: 5896.512965319758\n",
            "RMSE: 9460.65285856543\n",
            "R2 Score: 0.5965105603393742\n"
          ]
        }
      ],
      "source": [
        "#Evaluasi Decision Tree\n",
        "evaluate(DecisionTreeRegressor())"
      ]
    },
    {
      "cell_type": "code",
      "execution_count": null,
      "metadata": {
        "colab": {
          "base_uri": "https://localhost:8080/"
        },
        "id": "9Ac0Jnw_1BQ9",
        "outputId": "cd3bf66b-da23-4bc7-f0b7-b5ac8bd626db"
      },
      "outputs": [
        {
          "name": "stdout",
          "output_type": "stream",
          "text": [
            "MAE: 4578.0235466226395\n",
            "RMSE: 7056.249291240191\n",
            "R2 Score: 0.7755406041453974\n"
          ]
        }
      ],
      "source": [
        "#Evaluasi LightGBM\n",
        "evaluate(LGBMRegressor())"
      ]
    },
    {
      "cell_type": "code",
      "execution_count": null,
      "metadata": {
        "colab": {
          "base_uri": "https://localhost:8080/"
        },
        "id": "haY7u8822X_s",
        "outputId": "ca1c0bfb-92db-4e72-d2f7-ebecc51d3271"
      },
      "outputs": [
        {
          "name": "stdout",
          "output_type": "stream",
          "text": [
            "MAE: 4557.634381011197\n",
            "RMSE: 7167.313326071107\n",
            "R2 Score: 0.7684190989699724\n"
          ]
        }
      ],
      "source": [
        "#Evaluasi Gradient Boost\n",
        "evaluate(GradientBoostingRegressor())"
      ]
    }
  ],
  "metadata": {
    "colab": {
      "provenance": []
    },
    "kernelspec": {
      "display_name": "Python 3",
      "name": "python3"
    },
    "language_info": {
      "name": "python"
    }
  },
  "nbformat": 4,
  "nbformat_minor": 0
}