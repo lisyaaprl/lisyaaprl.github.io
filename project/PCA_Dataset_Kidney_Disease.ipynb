{
  "nbformat": 4,
  "nbformat_minor": 0,
  "metadata": {
    "colab": {
      "name": "PCA Dataset Kidney Disease",
      "provenance": [],
      "collapsed_sections": [],
      "authorship_tag": "ABX9TyMUQMYb/j3dOUZNpB4OoRq/",
      "include_colab_link": true
    },
    "kernelspec": {
      "name": "python3",
      "display_name": "Python 3"
    },
    "language_info": {
      "name": "python"
    }
  },
  "cells": [
    {
      "cell_type": "markdown",
      "metadata": {
        "id": "view-in-github",
        "colab_type": "text"
      },
      "source": [
        "<a href=\"https://colab.research.google.com/github/lisyaaprl/lisyaaprl.github.io/blob/main/project/PCA_Dataset_Kidney_Disease.ipynb\" target=\"_parent\"><img src=\"https://colab.research.google.com/assets/colab-badge.svg\" alt=\"Open In Colab\"/></a>"
      ]
    },
    {
      "cell_type": "markdown",
      "metadata": {
        "id": "msP6s8k4EUlg"
      },
      "source": [
        "# **Principal Component Analysis pada Dataset Kidney Disease**"
      ]
    },
    {
      "cell_type": "markdown",
      "metadata": {
        "id": "_vNxVTsrDUey"
      },
      "source": [
        "**Nama:** Lisya Apriliani\n",
        "\n",
        "---\n",
        "\n",
        "**NIM:** 24060119120016\n",
        "\n",
        "---\n",
        "\n",
        "**Lab:** A2"
      ]
    },
    {
      "cell_type": "markdown",
      "metadata": {
        "id": "7FkBxgnbEbvb"
      },
      "source": [
        ">**Principal Component Analysis (PCA)**\n",
        "adalah teknik yang digunakan untuk menyederhanakan suatu data dengan cara mentransormasi linear sehingga terbentuk sistem koordinat baru dengan variansi maksimum. PCA dapat digunakan untuk mereduksi dimensi suatu data tanpa mengurangi karakteristik data tersebut secara signifikan. PCA mengubah dari sebagian besar variabel asli\n",
        "yang saling berkorelasi menjadi satu\n",
        "himpunan variabel baru yang lebih kecil dan\n",
        "saling bebas\n",
        "\n",
        "> Prinsip dasar dari algoritma Principal Component Analysis adalah mengurangi satu set data namun tetap mempertahankan sebanyak\n",
        "mungkin variasi dalam set data tersebut. \n",
        "\n"
      ]
    },
    {
      "cell_type": "markdown",
      "metadata": {
        "id": "4_aPcrcTGjQR"
      },
      "source": [
        "### **Langkah Principal Component Analysis untuk Dataset Kidney**"
      ]
    },
    {
      "cell_type": "markdown",
      "metadata": {
        "id": "wfqcbPF2HDTl"
      },
      "source": [
        "**1. Import Library dan Load Dataset Kidney Disease**\n",
        "\n",
        "---\n",
        "\n",
        ">Langkah pertama untuk melakukan PCA adalah import library dan fungsi yang diperlukan yaitu pandas, pyplot dari library matplotlib, StandarScaler dari library sklearn.preprocessing, PCA dari library sklearn.decomposition.\n",
        "\n",
        ">Setelah import fungsi dan library, maka load dataset yang digunakan. Pada tugas ini digunakan dataset kidney disease yang diambil dari url lalu diload ke dataframe Pandas dengan menggunakan pd.read_csv(url, names=names) dan dimasukkan ke dalam variabel df."
      ]
    },
    {
      "cell_type": "code",
      "metadata": {
        "id": "iMh0n2ItZWNg",
        "colab": {
          "base_uri": "https://localhost:8080/",
          "height": 206
        },
        "outputId": "10f22904-7340-4c08-cb88-f21ff76f2f97"
      },
      "source": [
        "import pandas as pd\n",
        "from matplotlib import pyplot as plt\n",
        "from sklearn.preprocessing import StandardScaler\n",
        "from sklearn.decomposition import PCA\n",
        "\n",
        "url = \"https://raw.githubusercontent.com/lisyaaprl/datasetLisya/main/kidney-disease.csv\"\n",
        "names = ['BP', 'SG', 'Albumin', 'Sugar', 'RBC', 'BU', 'SC', 'Sodium', 'Pottasium', 'Hb', 'WBCC', 'RBCC', 'Htn', 'Class']\n",
        "# load dataset into Pandas dataframe\n",
        "df = pd.read_csv(url, names=names)\n",
        "df.head()"
      ],
      "execution_count": null,
      "outputs": [
        {
          "output_type": "execute_result",
          "data": {
            "text/html": [
              "<div>\n",
              "<style scoped>\n",
              "    .dataframe tbody tr th:only-of-type {\n",
              "        vertical-align: middle;\n",
              "    }\n",
              "\n",
              "    .dataframe tbody tr th {\n",
              "        vertical-align: top;\n",
              "    }\n",
              "\n",
              "    .dataframe thead th {\n",
              "        text-align: right;\n",
              "    }\n",
              "</style>\n",
              "<table border=\"1\" class=\"dataframe\">\n",
              "  <thead>\n",
              "    <tr style=\"text-align: right;\">\n",
              "      <th></th>\n",
              "      <th>BP</th>\n",
              "      <th>SG</th>\n",
              "      <th>Albumin</th>\n",
              "      <th>Sugar</th>\n",
              "      <th>RBC</th>\n",
              "      <th>BU</th>\n",
              "      <th>SC</th>\n",
              "      <th>Sodium</th>\n",
              "      <th>Pottasium</th>\n",
              "      <th>Hb</th>\n",
              "      <th>WBCC</th>\n",
              "      <th>RBCC</th>\n",
              "      <th>Htn</th>\n",
              "      <th>Class</th>\n",
              "    </tr>\n",
              "  </thead>\n",
              "  <tbody>\n",
              "    <tr>\n",
              "      <th>0</th>\n",
              "      <td>80.0</td>\n",
              "      <td>1.020</td>\n",
              "      <td>1.0</td>\n",
              "      <td>0.0</td>\n",
              "      <td>1.0</td>\n",
              "      <td>36.0</td>\n",
              "      <td>1.2</td>\n",
              "      <td>137.53</td>\n",
              "      <td>4.63</td>\n",
              "      <td>15.4</td>\n",
              "      <td>7800.0</td>\n",
              "      <td>5.20</td>\n",
              "      <td>1.0</td>\n",
              "      <td>1</td>\n",
              "    </tr>\n",
              "    <tr>\n",
              "      <th>1</th>\n",
              "      <td>50.0</td>\n",
              "      <td>1.020</td>\n",
              "      <td>4.0</td>\n",
              "      <td>0.0</td>\n",
              "      <td>1.0</td>\n",
              "      <td>18.0</td>\n",
              "      <td>0.8</td>\n",
              "      <td>137.53</td>\n",
              "      <td>4.63</td>\n",
              "      <td>11.3</td>\n",
              "      <td>6000.0</td>\n",
              "      <td>4.71</td>\n",
              "      <td>0.0</td>\n",
              "      <td>1</td>\n",
              "    </tr>\n",
              "    <tr>\n",
              "      <th>2</th>\n",
              "      <td>80.0</td>\n",
              "      <td>1.010</td>\n",
              "      <td>2.0</td>\n",
              "      <td>3.0</td>\n",
              "      <td>1.0</td>\n",
              "      <td>53.0</td>\n",
              "      <td>1.8</td>\n",
              "      <td>137.53</td>\n",
              "      <td>4.63</td>\n",
              "      <td>9.6</td>\n",
              "      <td>7500.0</td>\n",
              "      <td>4.71</td>\n",
              "      <td>0.0</td>\n",
              "      <td>1</td>\n",
              "    </tr>\n",
              "    <tr>\n",
              "      <th>3</th>\n",
              "      <td>70.0</td>\n",
              "      <td>1.005</td>\n",
              "      <td>4.0</td>\n",
              "      <td>0.0</td>\n",
              "      <td>1.0</td>\n",
              "      <td>56.0</td>\n",
              "      <td>3.8</td>\n",
              "      <td>111.00</td>\n",
              "      <td>2.50</td>\n",
              "      <td>11.2</td>\n",
              "      <td>6700.0</td>\n",
              "      <td>3.90</td>\n",
              "      <td>1.0</td>\n",
              "      <td>1</td>\n",
              "    </tr>\n",
              "    <tr>\n",
              "      <th>4</th>\n",
              "      <td>80.0</td>\n",
              "      <td>1.010</td>\n",
              "      <td>2.0</td>\n",
              "      <td>0.0</td>\n",
              "      <td>1.0</td>\n",
              "      <td>26.0</td>\n",
              "      <td>1.4</td>\n",
              "      <td>137.53</td>\n",
              "      <td>4.63</td>\n",
              "      <td>11.6</td>\n",
              "      <td>7300.0</td>\n",
              "      <td>4.60</td>\n",
              "      <td>0.0</td>\n",
              "      <td>1</td>\n",
              "    </tr>\n",
              "  </tbody>\n",
              "</table>\n",
              "</div>"
            ],
            "text/plain": [
              "     BP     SG  Albumin  Sugar  RBC  ...    Hb    WBCC  RBCC  Htn  Class\n",
              "0  80.0  1.020      1.0    0.0  1.0  ...  15.4  7800.0  5.20  1.0      1\n",
              "1  50.0  1.020      4.0    0.0  1.0  ...  11.3  6000.0  4.71  0.0      1\n",
              "2  80.0  1.010      2.0    3.0  1.0  ...   9.6  7500.0  4.71  0.0      1\n",
              "3  70.0  1.005      4.0    0.0  1.0  ...  11.2  6700.0  3.90  1.0      1\n",
              "4  80.0  1.010      2.0    0.0  1.0  ...  11.6  7300.0  4.60  0.0      1\n",
              "\n",
              "[5 rows x 14 columns]"
            ]
          },
          "metadata": {},
          "execution_count": 3
        }
      ]
    },
    {
      "cell_type": "markdown",
      "metadata": {
        "id": "UQKFf_3Aa3Sq"
      },
      "source": [
        "**2. Standarisasi Data**\n",
        "\n",
        "---\n",
        "\n",
        ">Langkah selanjutnya adalah melakukan standarisasi data untuk menskalakan fitur dalam data sebelum menerapkan PCA. Standarisasi data dilakukan menggunakan StandarScaler yang akan membuat setiap fitur memiliki nilai rata-rata 0 dan variansi 1.\n",
        "\n",
        ">Untuk melakukan standarisasi, fitur - fitur dimasukan ke dalam suatu array dengan features. Selanjutnya, nilai - nilai fitur dipisahkan dengan df.loc[:, features].values. Lalu target atau class juga dipisahkan dengan df.loc[:, ['Class']].values. Terakhir, lakukan standarisasi dengan StandardScaler().fit_transform(x)."
      ]
    },
    {
      "cell_type": "code",
      "metadata": {
        "id": "ZuTVTIxBabEh"
      },
      "source": [
        "features = ['BP', 'SG', 'Albumin', 'Sugar', 'RBC', 'BU', 'SC', 'Sodium', 'Pottasium', 'Hb', 'WBCC', 'RBCC', 'Htn']\n",
        "# Separating out features\n",
        "x = df.loc[:, features].values\n",
        "# separating out the target\n",
        "y = df.loc[:, ['Class']].values\n",
        "# Standardizing the features\n",
        "x = StandardScaler().fit_transform(x)"
      ],
      "execution_count": null,
      "outputs": []
    },
    {
      "cell_type": "markdown",
      "metadata": {
        "id": "jqRYhMBNa6I0"
      },
      "source": [
        "**3. Proyeksi PCA ke 2D**\n",
        "\n",
        "---\n",
        "\n",
        "Langkah selanjutnya adalah memproyeksikan dataset kidney disease yang memiliki 13 kolom yaitu 'BP', 'SG', 'Albumin', 'Sugar', 'RBC', 'BU', 'SC', 'Sodium', 'Pottasium', 'Hb', 'WBCC', 'RBCC', 'Htn' menjadi 2 dimensi."
      ]
    },
    {
      "cell_type": "code",
      "metadata": {
        "id": "fbTUH_eSa9_v"
      },
      "source": [
        "pca = PCA(n_components=2)\n",
        "principalComponents = pca.fit_transform(x)\n",
        "principalDf = pd.DataFrame(data = principalComponents,\n",
        "                           columns = ['principal component 1', 'principal component 2'])\n",
        "finalDf = pd.concat([principalDf, df[['Class']]], axis = 1)"
      ],
      "execution_count": null,
      "outputs": []
    },
    {
      "cell_type": "markdown",
      "metadata": {
        "id": "IQe31uMKbjhM"
      },
      "source": [
        "**4. Visualisasikan Proyeksi 2D**\n",
        "\n",
        "---\n",
        "\n",
        "Selanjutnya, kita bisa memplotting atau memvisualisasikan data dua dimensi dengan menggunakan pyplot."
      ]
    },
    {
      "cell_type": "code",
      "metadata": {
        "colab": {
          "base_uri": "https://localhost:8080/",
          "height": 523
        },
        "id": "Q-n94G1dbmes",
        "outputId": "82cb7f0a-3843-4e93-e873-8860a3653474"
      },
      "source": [
        "fig = plt.figure(figsize=(8,8))\n",
        "ax = fig.add_subplot(1,1,1)\n",
        "ax.set_xlabel('Principal Component 1', fontsize = 15)\n",
        "ax.set_ylabel('Principal Component 2', fontsize = 15)\n",
        "ax.set_title('2 component PCA', fontsize = 20)\n",
        "target = [0,1]\n",
        "colors = ['r', 'g']\n",
        "for target, color in zip(target,colors):\n",
        "  indicesToKeep = finalDf['Class'] == target\n",
        "  ax.scatter(finalDf.loc[indicesToKeep, 'principal component 1'],\n",
        "             finalDf.loc[indicesToKeep, 'principal component 2'],\n",
        "             c = color,\n",
        "             s = 50)\n",
        "  #ax.legend(target)\n",
        "  ax.grid()"
      ],
      "execution_count": null,
      "outputs": [
        {
          "output_type": "display_data",
          "data": {
            "image/png": "[encoded data removed]",
            "text/plain": [
              "<Figure size 576x576 with 1 Axes>"
            ]
          },
          "metadata": {
            "needs_background": "light"
          }
        }
      ]
    },
    {
      "cell_type": "markdown",
      "metadata": {
        "id": "gRmKzj6be0Jd"
      },
      "source": [
        "**5. Varians yang Dijelaskan**\n",
        "\n",
        "---\n",
        "\n",
        "Pada tahap ini, kita dapat mengetahui bahwa untuk principal component 1 berisi 32,89% varian dan principal component 2 berisi 11,18% varian. Jika digabungkan, kedua komponen tersebut mengandung 44.07% informasi."
      ]
    },
    {
      "cell_type": "code",
      "metadata": {
        "colab": {
          "base_uri": "https://localhost:8080/"
        },
        "id": "OK1s36z9ezAt",
        "outputId": "6569fb95-14fd-4b37-e1b4-b80ffe8cf0d1"
      },
      "source": [
        "pca.explained_variance_ratio_"
      ],
      "execution_count": null,
      "outputs": [
        {
          "output_type": "execute_result",
          "data": {
            "text/plain": [
              "array([0.32885225, 0.11177842])"
            ]
          },
          "metadata": {},
          "execution_count": 7
        }
      ]
    }
  ]
}